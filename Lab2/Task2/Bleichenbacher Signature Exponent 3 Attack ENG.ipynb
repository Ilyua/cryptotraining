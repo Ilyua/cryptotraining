{
 "cells": [
  {
   "cell_type": "markdown",
   "metadata": {},
   "source": [
    "# Bleichenbacher's signature attack on RSA with exponent 3\n",
    "Public exponent $3$ is often used due to the fact that computation for it is simpler. Obviously, it can be a problem if the message $M$ you are trying to encrypt doesn't wrap the modulus. To mitigate this there were created several padding schemes. Most noteworthy from the point of attacks is PKCS#1 v1.5, which we will learn further down the way. It uses a somewhat similar format both for signatures and encryption, but today we'll be looking into signatures. A valid signature under PKCS encoding has the following format:\n",
    "```\n",
    "00 | 01 | FF | .. | FF | 00 | HASH\n",
    "```\n",
    "If $N$ is $k$ bytes long (usually 128,256 or 384), then the number of FF bytes is supposed to be $(k-3-len(HASH))$.\n",
    "\n",
    "Unfortunately, certain implementations checked just for sequence\n",
    "```\n",
    "00 | 01 | FF | .. | FF | 00\n",
    "``` \n",
    "with arbitrary number of bytes FF and then took the hash after those. The problem is that what initially was just one possible message has now way too many possibilities, since all the bytes after hash can be whatever you want. With $e=3$ this becomes a real issue, since we can forge the signature.\n",
    "What you can do is try to take the approximate cubic root of $M=$\n",
    "```\n",
    "00 | 01 | FF | 00 | HASH | 00 | .. | 00\n",
    "```\n",
    "$S'\\approx M^{1/3}$ then find signature $S=S'+1$. Since this will change just the bytes after the hash, the signature will pass the check.\n",
    "\n",
    "Forge a signature for the b'flag' and send it to the server, only the server is not using the hash of 'flag', instead it just looks for 'flag' right after padding. Good luck!"
   ]
  },
  {
   "cell_type": "code",
   "execution_count": 1,
   "metadata": {},
   "outputs": [],
   "source": [
    "import socket\n",
    "import re\n",
    "from Crypto.Util.number import bytes_to_long,long_to_bytes,inverse,GCD\n",
    "class VulnServerClient:\n",
    "    def __init__(self,show=True):\n",
    "        \"\"\"Initialization, connecting to server\"\"\"\n",
    "        self.s=socket.socket(socket.AF_INET,socket.SOCK_STREAM)\n",
    "        self.s.connect(('cryptotraining.zone',1341))\n",
    "        if show:\n",
    "            print (self.recv_until().decode())\n",
    "    def recv_until(self,symb=b'\\n>'):\n",
    "        \"\"\"Receive messages from server, by default till new prompt\"\"\"\n",
    "        data=b''\n",
    "        while True:\n",
    "            \n",
    "            data+=self.s.recv(1)\n",
    "            if data[-len(symb):]==symb:\n",
    "                break\n",
    "        return data\n",
    "    def get_public_key(self,show=True):\n",
    "        \"\"\"Receive public key from the server\"\"\"\n",
    "        self.s.sendall('public\\n'.encode())\n",
    "        response=self.recv_until().decode()\n",
    "        if show:\n",
    "            print (response)\n",
    "        e=int(re.search('(?<=e: )\\d+',response).group(0))\n",
    "        N=int(re.search('(?<=N: )\\d+',response).group(0))\n",
    "        self.num_len=len(long_to_bytes(N))\n",
    "        return (e,N)\n",
    "            \n",
    "    def checkSignature(self,c,show=True):\n",
    "        \"\"\"Check if this number is a valid signature for flag\"\"\"\n",
    "        try:\n",
    "            num_len=self.num_len\n",
    "        except KeyError:\n",
    "            print ('You need to get the public key from the server first')\n",
    "            return\n",
    "        signature_bytes=long_to_bytes(c,num_len)\n",
    "        self.checkSignatureBytes(signature_bytes,show)\n",
    "    \n",
    "    def checkSignatureBytes(self,c,show=True):\n",
    "        \"\"\"Check if this byte sequence is a valid signature for flag\"\"\"\n",
    "        try:\n",
    "            num_len=self.num_len\n",
    "        except KeyError:\n",
    "            print ('You need to get the public key from the server first')\n",
    "            return\n",
    "        if len(c)>num_len:\n",
    "            print (\"The message is too long\")\n",
    "            return\n",
    "        \n",
    "        hex_c=c.hex().encode()\n",
    "        self.s.sendall(b'flag '+hex_c+b'\\n',)\n",
    "        response=self.recv_until(b'\\n').decode()\n",
    "        \n",
    "        if show:\n",
    "            print (response)\n",
    "        \n",
    "        if response.find('Wrong')!=-1:\n",
    "            print('Wrong signature')\n",
    "            x=self.recv_until()\n",
    "            if show:\n",
    "                print (x)\n",
    "            return\n",
    "        flag=re.search('CRYPTOTRAINING\\{.*\\}',response).group(0)\n",
    "        print ('FLAG: ',flag)\n",
    "        \n",
    "    def __del__(self):\n",
    "        self.s.close()\n"
   ]
  },
  {
   "cell_type": "code",
   "execution_count": 2,
   "metadata": {},
   "outputs": [
    {
     "name": "stdout",
     "output_type": "stream",
     "text": [
      "Welcome to Bleichenbacher's signature exponent 3 attack task\n",
      "Available commands:\n",
      "help - print this help\n",
      "public - show public key\n",
      "flag <hex(signature(b'flag'))> - print flag \n",
      "quit - quit\n",
      ">\n",
      "e: 3\n",
      "N: 23451721638450735837192936512705285084148016986437726204139579305692323143550819643457876722407945724900036975175553947474624476543532979129965108694659826813679082084533634964848066390472260420456930636110185046577632027929983762829180699297454189397229979451189326493503464132097157965882767371766584791340102547650807127441615897313168600069296610173329252319841357703115792282657779920335977298037814050590828657396573367322681353379045364808080549961191425415961937864382495328668937920235775400914630813078535281943770942554463414529423069019686396596201141371706207268929145987762222661753151969189517471009277\n",
      ">\n"
     ]
    }
   ],
   "source": [
    "vs=VulnServerClient()\n",
    "(e,N)=vs.get_public_key()"
   ]
  },
  {
   "cell_type": "code",
   "execution_count": null,
   "metadata": {},
   "outputs": [],
   "source": []
  }
 ],
 "metadata": {
  "kernelspec": {
   "display_name": "Python 3",
   "language": "python",
   "name": "python3"
  },
  "language_info": {
   "codemirror_mode": {
    "name": "ipython",
    "version": 3
   },
   "file_extension": ".py",
   "mimetype": "text/x-python",
   "name": "python",
   "nbconvert_exporter": "python",
   "pygments_lexer": "ipython3",
   "version": "3.6.9"
  }
 },
 "nbformat": 4,
 "nbformat_minor": 4
}
