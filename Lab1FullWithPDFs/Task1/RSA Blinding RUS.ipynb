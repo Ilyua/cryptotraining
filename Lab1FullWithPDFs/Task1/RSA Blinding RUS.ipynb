{
 "cells": [
  {
   "cell_type": "markdown",
   "metadata": {},
   "source": [
    "# Атака RSA Blinding\n",
    "## Введение\n",
    "RSA (названа в честь своих создателей Ronald Linn Rivest, Adi Shamir and Leonard Adleman) это пример асимметричной криптосистемы, которая может быть использована для безопасной передачи данных и создания подписей. рассмотрим базовые принципы работы криптосистемы.\n",
    "\n",
    "RSA использует мультипликативную группу по модулю $N=pq$, где $p$ и $q$ - простые числа. Степень мультипликативной группы (по-сути, её мощность) может быть вычислена при помощи функции Эйлера  для составного числа из двух простых: $\\varphi(N)=(p-1)(q-1)$. Функция считает количество натуральных чисел меньше $N$, которые не кратны $p$ или $q$. Поскольку все такие числа взаимно просты с $N$, они состоят в мультипликативной группу. Как мы знаем, если возвести любой элемент конечной мультипликативной группы в степень этой группы, то получим нейтральный элемент (единицу): $a^{\\varphi(N)}=1, a \\in Z^{*}_{N}$. Поэтому в RSA используют два числа $e$ (открытая экспонента) и $d$ (закрытая экспонента), такие что $ed=1 mod N$. Пара чисел $(e,N)$ используется как открытый ключ, а $(d,N)$ как закрытый. Вычисление $d$ из открытого ключа является сверхполиномиальной задачей (NP), если не были сгенерированы слабые $N$, $d$ или $e$. Одним из способов решения является факторизация $N$ в произведение $p$ и $q$.\n",
    "\n",
    "Пусть дан открытый текст (число) $M, M < N$, открытый ключ $(e,N)$ и закрытый ключ $(d,N)$,  шифрование и расшифрование осуществляются следующим образом:\n",
    "\n",
    "Шифрование\n",
    "$C=M^{e}\\space mod\\space N$\n",
    "\n",
    "Расшифрование\n",
    "\n",
    "$M=C^{d} \\space mod\\space N$\n",
    "\n",
    "Проверка корректности:\n",
    "\n",
    "$C^{d}\\space mod\\space N=M^{ed}\\space mod\\space N= M^{ed\\space mod\\space \\varphi(N)}\\space mod\\space N=M^{1}\\space mod\\space N= M\\space mod\\space N$\n",
    "\n",
    "## Preparation\n",
    "Попробуем немного поработать с RSA. Если ещё не установили, установите Pycryptodome. На Linux и Windows должна сработать следующая команда (Предварительно надо установить python 3 и pip, но я надеюсь, что вы справились с этим самостоятельно):"
   ]
  },
  {
   "cell_type": "code",
   "execution_count": 1,
   "metadata": {},
   "outputs": [],
   "source": [
    "# !python3 -m pip install pycryptodome\n",
    "# !conda install -c conda-forge pycryptodome"
   ]
  },
  {
   "cell_type": "markdown",
   "metadata": {},
   "source": [
    "После установки надо перезапустить ядро jupyter (круговая стрелка рядом с \"Run\"). Если возникнут проблемы, загляните в документацию: [Pycryptodome installation](https://pycryptodome.readthedocs.io/en/latest/src/installation.html)."
   ]
  },
  {
   "cell_type": "markdown",
   "metadata": {},
   "source": [
    "## Примитивная реализация RSA\n",
    "Давайте сделаем простейшую версию RSA. Будем использовать открытую экспоненту $e=65537$. Обычно используют эту константу, потому что она переаолняет модуль даже при открытом тексте $M=2$ и у нее удобное двоичное представление $65537_{10}=10000000000000001_{2}$, которое позволяет эффективно возводить число в степень, используя алгоритм \"Square and multiply\".\n",
    "\n",
    "Сначала сгенерируем $p$ и $q$. Функиция getStrongPrime дает возможность выбрать количество бит в генерируемом простом числе и проверяет, что $НОД(p-1,e)=1$"
   ]
  },
  {
   "cell_type": "code",
   "execution_count": 2,
   "metadata": {},
   "outputs": [],
   "source": [
    "try:\n",
    "    from Crypto.Util.number import getStrongPrime, inverse,bytes_to_long, long_to_bytes\n",
    "except ImportError:\n",
    "    print (\"Pycryptodome not installed\")"
   ]
  },
  {
   "cell_type": "code",
   "execution_count": 3,
   "metadata": {},
   "outputs": [],
   "source": [
    "e=65537\n",
    "p=getStrongPrime(1024,e=e)\n",
    "q=getStrongPrime(1024,e=e)"
   ]
  },
  {
   "cell_type": "code",
   "execution_count": 4,
   "metadata": {},
   "outputs": [],
   "source": [
    "N=p*q\n",
    "phi=(p-1)*(q-1)\n",
    "d=inverse(e,phi)\n",
    "public_key=(e,N)\n",
    "private_key=(d,N)"
   ]
  },
  {
   "cell_type": "markdown",
   "metadata": {},
   "source": [
    "Мы успешно сгенерировали ключи, теперь давайте зашифруем сообщение, расшифруем закрытый текст и проверим, что получили то же самое"
   ]
  },
  {
   "cell_type": "code",
   "execution_count": 5,
   "metadata": {},
   "outputs": [
    {
     "name": "stdout",
     "output_type": "stream",
     "text": [
      "C: 0xfc0a58d63d3af779a5838695689d426ec1eb4e6540fdcfcb2440d502c1fb6ff1577f6ab3c430ed3b73db50c20fef4a133732190f8984250f75d5bd54c44ed8e33f6dbe7d425b56c11925cb5ba5e59a46c869fc18d69f9c7f6cfedf599a966dfbce5cdaeae4f7c637d402a98f643350adf7157f95153f4da67f50c1a28e89a20cd6460c7bab7624a7bd0c08001eaa1ab25055c86d86f821d813a759173adcc6ca60a91b294b6d62b80c1190da8e928275d5ed243d6ea814666b2ba8f4e0b1f763f7141187a907585163bb5227a156cd77cb9fabf9cfd6613b6eb02e7ce5bdeffb6bc0a12dc989e9dc440a0eb08e1b33e817ec36ccaec894fd5662f4e523f934\n",
      "M1: b'Hello, RSA!'\n"
     ]
    }
   ],
   "source": [
    "M=bytes_to_long(b'Hello, RSA!')\n",
    "C=pow(M,e,N)\n",
    "print ('C:',hex(C))\n",
    "M1=pow(C,d,N)\n",
    "assert M1==M\n",
    "print ('M1:',long_to_bytes(M1))"
   ]
  },
  {
   "cell_type": "markdown",
   "metadata": {},
   "source": [
    "Создание подписи - обратная операция к шифрованию. \n",
    "$$Sign(M)\\equiv Dec(M),\\space Check(S) \\equiv Enc(S)$$\n",
    "Таким образом любой, владеющий окрытым ключом, может проверить правильность подписи, а создать её может только сторона, у которой есть закрытый ключ.\n",
    "Поздравляю, теперь вы знаете, как шифровать и создавать подаписи при помощи RSA. Дальше рассмотрим одно из его интересных свойств.\n",
    "\n",
    "## RSA Blinding\n",
    "RSA - это гомоморфное шифрование по отношению к операции умножения.\n",
    "Отношение является гомоморфизмом групп, если оно операцию одной группы переводит в опрацию другой группы ,операция и отношение элементов сохраняются. Если ничего не понятно, не беспокойтесь, я в первый раз, когда услышал, тоже ничего не понял. Что это значит на практике: пусть у вас есть два элемента группы $G_1$ $(x,y)$ и вы применяете к ним гомоморфное отображение, они будут также связаны в новой группе $G_2$ (для RSA $G_1= G_2$): \n",
    "$$\\varphi(x\\cdot y)=\\varphi(x)\\times\\varphi(y)$$\n",
    "Для шифрования RSA: $$Enc(M_1 \\cdot M_2)=Enc(M_1)\\times Enc(M_2)=$$\n",
    "То же самое верно и для расшифрования:\n",
    "$$Dec(C_1 \\times C_2)=Dec(C_1) \\cdot Dec(C_2)$$\n",
    "Протестируем это свойство в python"
   ]
  },
  {
   "cell_type": "code",
   "execution_count": 6,
   "metadata": {},
   "outputs": [
    {
     "name": "stdout",
     "output_type": "stream",
     "text": [
      "c1: 6673929034955853120153288332055348981140940082813052494222854023759320244259508162129462885544624798772669512913645532566715842218160186862151187781643632695180938702162743524018847715874147517790706962239080381768024757371926227237442829393779466139911248816408632627239100194087997735152774907470875773867735465183800006946086011360159278960590868165128556052869830634241177902223746408928336667742113973804628038343746908230101002199571444420498786826675939883993269461250388094953360738523936641368926324459245973370065339979521595116537222814964405287799047243003787262097606335624250914601998737390015725825471\n",
      "c2: 16568539171288940958986226970547264915280578523178495256986423097670671321280960608537627707227412863388742432386853330290566608680657258220939294336258735938144758784785727937061170258599642448854718883387086670425525785127799147575320096687760495167423128635441748352840338567797782768233561027782977116959539839301354872262396666076687862254083623939394959269582321219844425912467959995054814239275118780225285641167227753361128602436697134711665090770655254964859691318011040363424471683618003992832003701207198817863297396451344628048131122850939674392731221261323255797715648540274992267116135042291242405579892\n",
      "c3: 5776543865479963497541698788173664116655070350573388573753211493239296601903169889597355286032620758351455531214464651614246597333010036771069879965338267710905990200233731145963334362804163326973764713405873100974546370199271898945880402840517797076019135194574940168719919075233589670267461720302696539134132432918435482347541811098109110864685483199835345608872817067846776111179732797680796893448916410559467469781747250617404170685323681543881393778486567293714297806235815108730260554218366961584811162748321697968277063644744629326041685680765394392273623690056175695087585014756348276237282865149118635884194\n",
      "m3: 6, m3_dec: 6\n"
     ]
    }
   ],
   "source": [
    "class BasicRSA:\n",
    "    def __init__(self, e,p,q):\n",
    "        self.e=e\n",
    "        self.p=p\n",
    "        self.q=q\n",
    "        self.N=p*q\n",
    "        self.d=inverse(e,(p-1)*(q-1))\n",
    "    \n",
    "    def encryptNumber(self, m):\n",
    "        return pow(m,self.e,self.N)\n",
    "    \n",
    "    def decryptNumber(self, c):\n",
    "        return pow(c,self.d,self.N)\n",
    "\n",
    "    \n",
    "brsa=BasicRSA(e,p,q) #we created these parameters earlier\n",
    "m1=2\n",
    "m2=3\n",
    "m3=m1*m2\n",
    "c1=brsa.encryptNumber(m1)\n",
    "c2=brsa.encryptNumber(m2)\n",
    "print ('c1:',c1)\n",
    "print ('c2:',c2)\n",
    "c3=(c1*c2)%brsa.N\n",
    "print('c3:',c3)\n",
    "m3_dec=brsa.decryptNumber(c3)\n",
    "print ('m3: %d, m3_dec: %d'%(m3,m3_dec))\n",
    "assert m3_dec==m3"
   ]
  },
  {
   "cell_type": "markdown",
   "metadata": {},
   "source": [
    "## Атакуем сервер\n",
    "Теперь попробуйте применить эти знания к уязвимому серверу. Вы можете приконнетиться, используя ```nc cryptotraining.zone 1337``` или при помощи питоновских сокетов."
   ]
  },
  {
   "cell_type": "code",
   "execution_count": 7,
   "metadata": {},
   "outputs": [],
   "source": [
    "import socket\n",
    "import re\n",
    "class VulnServerClient:\n",
    "    def __init__(self,show=True):\n",
    "        \"\"\"Ининциализация, подключаемся к серверу\"\"\"\n",
    "        self.s=socket.socket(socket.AF_INET,socket.SOCK_STREAM)\n",
    "        self.s.connect(('cryptotraining.zone',1337))\n",
    "        if show:\n",
    "            print (self.recv_until().decode())\n",
    "    def recv_until(self,symb=b'\\n>'):\n",
    "        \"\"\"Получение сообщения с сервера, по умолчанию до приглашения к вводу команды\"\"\"\n",
    "        data=b''\n",
    "        while True:\n",
    "            \n",
    "            data+=self.s.recv(1)\n",
    "            if data[-len(symb):]==symb:\n",
    "                break\n",
    "        return data\n",
    "    def get_public_key(self,show=True):\n",
    "        \"\"\"Получение открытого ключа с сервера\"\"\"\n",
    "        self.s.sendall('public\\n'.encode())\n",
    "        response=self.recv_until().decode()\n",
    "        if show:\n",
    "            print (response)\n",
    "        e=int(re.search('(?<=e: )\\d+',response).group(0))\n",
    "        N=int(re.search('(?<=N: )\\d+',response).group(0))\n",
    "        self.num_len=len(long_to_bytes(N))\n",
    "        return (e,N)\n",
    "    \n",
    "    def signBytes(self,m,show=True):\n",
    "        \"\"\"Получение подписи для выбранного сообщения в байтах с сервера\"\"\"\n",
    "        try:\n",
    "            num_len=self.num_len\n",
    "        except KeyError:\n",
    "            print ('You need to get the public key from the server first')\n",
    "            return\n",
    "        if len(m)>num_len:\n",
    "            print (\"The message is too long\")\n",
    "            return\n",
    "        if len(m)<num_len:\n",
    "            m=bytes((num_len-len(m))*[0x0]) +m\n",
    "        hex_m=m.hex().encode()\n",
    "        self.s.sendall(b'sign '+hex_m+b'\\n')\n",
    "        response=self.recv_until().decode()\n",
    "        if show:\n",
    "            print (response)\n",
    "        if response.find('flag')!=-1:\n",
    "            print('You tried to submit \\'flag\\'')\n",
    "            return None\n",
    "        signature_hex=re.search('(?<=Signature: )[0-9a-f]+',response).group(0)\n",
    "        signature_bytes=bytes.fromhex(signature_hex)\n",
    "        return bytes_to_long(signature_bytes)\n",
    "    \n",
    "    \n",
    "    def signNumber(self,m,show=True):\n",
    "        \"\"\"Получение подписи с сервера для выбранного сообщения в числовом представлении\"\"\"\n",
    "        try:\n",
    "            num_len=self.num_len\n",
    "        except KeyError:\n",
    "            print ('You need to get the public key from the server first')\n",
    "            return\n",
    "        return self.signBytes(long_to_bytes(m,num_len),show)\n",
    "        \n",
    "    def checkSignatureNumber(self,c,show=True):\n",
    "        \"\"\"Проверка сигнатуры (на сервере) для подписи в числовом представлении\"\"\"\n",
    "        try:\n",
    "            num_len=self.num_len\n",
    "        except KeyError:\n",
    "            print ('You need to get the public key from the server first')\n",
    "            return\n",
    "        signature_bytes=long_to_bytes(c,num_len)\n",
    "        self.checkSignatureBytes(signature_bytes,show)\n",
    "    \n",
    "    def checkSignatureBytes(self,c,show=True):\n",
    "        \"\"\"Проверка сигнатуры (на сервере) для подписи в байтовом представлении\"\"\"\n",
    "        try:\n",
    "            num_len=self.num_len\n",
    "        except KeyError:\n",
    "            print ('You need to get the public key from the server first')\n",
    "            return\n",
    "        if len(c)>num_len:\n",
    "            print (\"The message is too long\")\n",
    "            return\n",
    "        \n",
    "        hex_c=c.hex().encode()\n",
    "        self.s.sendall(b'flag '+hex_c+b'\\n',)\n",
    "        response=self.recv_until(b'\\n').decode()\n",
    "        \n",
    "        if show:\n",
    "            print (response)\n",
    "        \n",
    "        if response.find('Wrong')!=-1:\n",
    "            print('Wrong signature')\n",
    "            x=self.recv_until()\n",
    "            if show:\n",
    "                print (x)\n",
    "            return\n",
    "        flag=re.search('CRYPTOTRAINING\\{.*\\}',response).group(0)\n",
    "        print ('FLAG: ',flag)\n",
    "        \n",
    "    def __del__(self):\n",
    "        self.s.close()"
   ]
  },
  {
   "cell_type": "code",
   "execution_count": 8,
   "metadata": {},
   "outputs": [
    {
     "name": "stdout",
     "output_type": "stream",
     "text": [
      "Welcome to RSA blinding task\n",
      "Available commands:\n",
      "help - print this help\n",
      "public - show public key\n",
      "sign <hex(data)> - sign data\n",
      "flag <hex(signature(b'flag'))> - print flag \n",
      "quit - quit\n",
      ">\n",
      "e: 65537\n",
      "N: 20159717663186764200842482638329142432479376755681286432561400011207751568770239378735042390550988864636478212097889382541806378632813451522011734778394352464750695430236459156439656932108536936107092785759187120915559173321302027525229018106368725032056109022369913503577023942696069608771010384365856481001383579432844112231215767630328627015097422540087789462404508697086321213990868031273219614897901436844999442259387453021270642395531884848697650933478124254071912232445708062597679170291021925633789812405697682134528381868778865376836541179591638312152472136313757252384761293684336082840137773984575947459061\n",
      ">\n"
     ]
    }
   ],
   "source": [
    "vs=VulnServerClient()\n",
    "(e,N)=vs.get_public_key()"
   ]
  },
  {
   "cell_type": "markdown",
   "metadata": {},
   "source": [
    "Вы можете подписывать сообщения при помощи методов signNumber (подписать число) и signBytes (подписать сообщение из байтов)\n",
    "\n",
    "Проверять подпись можете при помощи методов checkSignatureNumber и checkSignatureBytes.\n",
    "\n",
    "Ваша цель - получить правильную подпись для сообщения 'flag'.\n",
    "\n",
    "Помните, что RSA - это гомоморфизм и решите задание.\n",
    "\n",
    "Удачи!"
   ]
  },
  {
   "cell_type": "code",
   "execution_count": 9,
   "metadata": {},
   "outputs": [],
   "source": [
    "int_flag = bytes_to_long(b'flag')"
   ]
  },
  {
   "cell_type": "code",
   "execution_count": 10,
   "metadata": {},
   "outputs": [
    {
     "data": {
      "text/plain": [
       "1718378855"
      ]
     },
     "execution_count": 10,
     "metadata": {},
     "output_type": "execute_result"
    }
   ],
   "source": [
    "int_flag"
   ]
  },
  {
   "cell_type": "code",
   "execution_count": 14,
   "metadata": {},
   "outputs": [],
   "source": [
    "for_sign=[5,int(int_flag/5)]"
   ]
  },
  {
   "cell_type": "code",
   "execution_count": 15,
   "metadata": {},
   "outputs": [],
   "source": [
    "import numpy as np"
   ]
  },
  {
   "cell_type": "code",
   "execution_count": null,
   "metadata": {},
   "outputs": [],
   "source": []
  },
  {
   "cell_type": "code",
   "execution_count": 16,
   "metadata": {},
   "outputs": [
    {
     "name": "stdout",
     "output_type": "stream",
     "text": [
      "Signature: 3db3b9da37432567eabd6408073feae549e9831e4f3ff63aa9314f2a2df55954d7287f2b735b67bfafd89121f4b90aa9cb59fb8a84e0432e22b9c87a116c4e1c224923ab44c460ee98176e784eede7c6df61a7f3adac690d24b9df8d0273cdc54ae8bb5ef27cb33f38a592ffccbb74031952d26fe6ba934204e0cabb09aca86495fda391c6a2ab2a32e7e935220087baf224c05f35bcf02b39af9dce3bb6a5fe7d871c1f91267e2be0a5e39aec8184107c9d09407ef63bf42585abd49c12fed532749782e475ddc99da8fc86f52507a5d0abc6bfdcce43e3b4fe83b0407191bc196f2121b79f67464640597ecd8f856cc210be288a4bc8a40ba179272eac1e9c\n",
      ">\n",
      "Signature: 3dd9ecff216fd8d3f72957971a8e681a9c05134e34da675ed9a4397d681558033cb3c0d5350035008161cc3a34948cdd8351c4ec233fddfe29fa6517192f1048757f64d9d891bd4c8c2403ad423650a06824bf8e02ee761317bd9f6fb1135fa2b1ea7d9c1eef42e704c625caaaa652cbc99fc765c861790a65b78aba0456457b7eba97cff511fc3156e905b0f561007963753460bbb2ed02ebea9e182a181455b08626558b06ade0594fb006779d9eee3dd9efa96db35dcc4804571903453b8843cdb9f108a7e9686cff3d47d3a537745f17bad1ec06fc308ce51d79d1027b4d79ae1aae72e8ae7d1a16b19c57e27424a5cd299139e0b485842835222aa62b61\n",
      ">\n"
     ]
    }
   ],
   "source": [
    "l=[vs.signNumber(n) for n in for_sign ]"
   ]
  },
  {
   "cell_type": "code",
   "execution_count": 17,
   "metadata": {},
   "outputs": [
    {
     "data": {
      "text/plain": [
       "[7789162789749622940582660203446907339704052033964996544507275348409627662417224482809969326593440791850888296235214696238413963388219581377486577206498622720603889359784722195830822473924119731869728173599490469130323090483878131135201142883889358676347124578027537843477673445808581213162046030560672655370837317346028962261230322788296559613715314707640020065925622907680318672474207030713180370996449053713398240459347198643229984240684834809369089179880967369379741082125542239926264136302760061995523672928779339299444899322784325159716587928299146357109152969757267037781460728366007779985084928089535466446492,\n",
       " 7807999804330953628246262330222389789685274603048268751672526985505836927000249545538517678735400281101899117284475383884041080026260889621969972163219292239685752743144653485023362888229582865026255489275282030974575494361317943154997235817522150526489522231585577851162929752522329963420955447744677006429372650159529238449751438395636935889520332297978400207046999205242684660921892740728125332080225875899884723932447664000890850311212672769216125646581152337401790114422700910461476766462797900571186887302409255672730715813945571959244209913430252800173849352393904290743011555343486395552715172902275136236385]"
      ]
     },
     "execution_count": 17,
     "metadata": {},
     "output_type": "execute_result"
    }
   ],
   "source": [
    "l"
   ]
  },
  {
   "cell_type": "code",
   "execution_count": 18,
   "metadata": {},
   "outputs": [],
   "source": [
    "result = np.prod(l)%N"
   ]
  },
  {
   "cell_type": "code",
   "execution_count": 19,
   "metadata": {},
   "outputs": [
    {
     "data": {
      "text/plain": [
       "19303065881999525816204078786563336411861759575841294492506193209545168654560598894859368564428794656908589685051103822092716073686725032450919116902231529277269791196874260437187429626674591185993481599160378107435534788968522040264991522918096402547869837198558091471378883744264064414452875584436475801860022266239772906674578895824112180094641100916140571431826344215125915717734889889399910140472020540115418687541770929086654095933653235881547636032160981122844597189282094757478623830956567790495865710667243205139541701961628132149783462885090079596829740273219439077835085863619313219408780905770744750966264"
      ]
     },
     "execution_count": 19,
     "metadata": {},
     "output_type": "execute_result"
    }
   ],
   "source": [
    "result"
   ]
  },
  {
   "cell_type": "code",
   "execution_count": 20,
   "metadata": {},
   "outputs": [
    {
     "name": "stdout",
     "output_type": "stream",
     "text": [
      "Congratulations! Here is your flag: CRYPTOTRAINING{n0t_s0_bl1nd_4ft3r_4ll}\n",
      "\n",
      "FLAG:  CRYPTOTRAINING{n0t_s0_bl1nd_4ft3r_4ll}\n"
     ]
    }
   ],
   "source": [
    "vs.checkSignatureNumber(result)"
   ]
  },
  {
   "cell_type": "code",
   "execution_count": null,
   "metadata": {},
   "outputs": [],
   "source": [
    "# bytes_to_long, long_to_bytes"
   ]
  }
 ],
 "metadata": {
  "kernelspec": {
   "display_name": "Python 3",
   "language": "python",
   "name": "python3"
  },
  "language_info": {
   "codemirror_mode": {
    "name": "ipython",
    "version": 3
   },
   "file_extension": ".py",
   "mimetype": "text/x-python",
   "name": "python",
   "nbconvert_exporter": "python",
   "pygments_lexer": "ipython3",
   "version": "3.7.5"
  }
 },
 "nbformat": 4,
 "nbformat_minor": 2
}
