{
 "cells": [
  {
   "cell_type": "markdown",
   "metadata": {},
   "source": [
    "# Атака Винера\n",
    "Расшифрование или создание подписи при помощи RSA обычно достаточно энергоёмкий и долгий процесс, так как мы не можем просто выбрать красивую закрытую экспоненту $d$ с низким весом Гэмминга (её очень просто было бы угадать). Поэтому у людей иногда появляется позыв выбрать такую открытую экспоненту $e$, что длина $d$ в битах в несколько раз меньше, чем длина модуля $N$, например, $N$ - 2048, а $d$ - 500 бит. Интуитивно может показаться, что раз $d$ сложно угадать (всё-таки 500 бит), можно быть спокойным за безопасной криптосистемы. К сожалению, это очень опасная ошибка. \n",
    "## Теорема (M. Wiener)\n",
    "Пусть $N = pq$ с $q<p<2q$. Пусть $d<\\frac{1}{3}N^{\\frac{1}{4}}$. Зная $(N,e)$, у которого $ed=1\\space mod\\space \\varphi(N)$, Марвин может эффективно восстановить $d$.\n",
    "\n",
    "### Доказательство (взято из [Twenty Years of Attacks on the RSA Cryptosystem](http://crypto.stanford.edu/~dabo/papers/RSA-survey.pdf) в авторстве Dan Boneh)\n",
    "\n",
    "Доказательство основывается на приближенных значениях при использовании непрерывных дробей. Поскольку существует $ed=1\\space mod\\space \\varphi(N)$, то сучществует такое $k$, что $ed-k\\varphi(N)=1$. Следовательно,\n",
    "$$\\lvert\\frac{e}{\\varphi(N)}-\\frac{k}{d}\\rvert=\\frac{1}{d\\varphi(N)}$$\n",
    "Значит, $\\frac{k}{d}$  - это приближенное значение к $\\frac{e}{\\varphi(N)}$. Хоть Марвин и не знает $\\varphi(N)$, он може воспользоваться $N$, чтобы получить его примерную оценку. Действительно, раз $\\varphi(N)=N-p-q+1$ и $p+q-1<3\\sqrt{N}$, получается, что $\\lvert N-\\varphi(N)\\rvert<3\\sqrt{N}$\n",
    "\n",
    "Подставляя $N$ вместо $\\varphi(N)$ получаем:\n",
    "$$\\lvert\\frac{e}{N}-\\frac{k}{d}\\rvert=\\lvert\\frac{ed-k\\varphi(N)-kN+k\\varphi(N)}{Nd}\\rvert=\\lvert\\frac{1-k(N-\\varphi(N))}{Nd}\\rvert\\le\\lvert\\frac{3k\\sqrt(N)}{Nd}\\rvert=\\frac{3k}{d\\sqrt{N}}$$\n",
    "Заметим, что $k\\varphi(N)=ed-1 \\lt ed$. Так как $e \\lt N$, видно, чтоt $k \\lt d \\lt \\frac{1}{3}N^{\\frac{1}{4}}$. Поэтому получаем:\n",
    "$$\\lvert\\frac{e}{N}-\\frac{k}{d}\\rvert\\le \\frac{1}{dN^{\\frac{1}{4}}}\\lt\\frac{1}{2d^2}$$\n",
    "\n",
    "Это классическое отношение приближения. Количество дробей $\\frac{k}{d}$ with $d\\lt N$, дающих приближенное значение $\\frac{e}{N}$ с такой точностью, ограничено $log_{2}N$ На самом деле, все такие дроби могут быть получены как подходящие дроби непрерывной дроби $\\frac{e}{N}$. Всё, что надо сделать, это посчитать $log\\space N$ подходящих дробей непрерывной дроби $\\frac{e}{N}$. Одна из них будет равна $\\frac{k}{d}$. Так как $ed-k\\varphi(N)=1$, то $НОД(k,d)=1$ и значит $\\frac{k}{d}$ - это сокращенная дробь. Это и есть линейный по времени алгоритм восстановления закрытого ключа $d$. **ЧТД**"
   ]
  },
  {
   "cell_type": "markdown",
   "metadata": {},
   "source": [
    "## Непрерывные и подходящие дроби\n",
    "*Непрерывная дробь*  - это выражение, полученное при помощи последовательного процесса представления числа как суммы его целочисленной части и обратного элемента по умножению к оставшейся части, далее представляя эту оставшуюся часть, как сумму целочисленной части и обратного элемента и так далее.\n",
    "Пример:\n",
    "Для действительного числа $x>0$ и целых положительных $a_{i}$, for $i=1,...,n$ \n",
    "$$x=a_{0}+\\frac{1}{a_{1}+\\frac{1}{a_{2}+\\frac{1}{\\ddots+\\frac{1}{a_{n}}}}}$$ - \n",
    "это непрерывная дробь. Целые числа $a_0, a_1$, и т.д., называются *элементами* или *неполными частными* непрерывной дроби. Есть много способов записи непрерывных дробей, мы будем использовать следующую:\n",
    "$$x=[a_0;a_1,a_2,...]$$\n",
    "Непрерывная дробь может сформировать своё приближение при помощи первых элементов. Таки приближения называются *подходящими дробями*.\n",
    "Очевидно, что для рационального $x$ количество таких подходящих дробей конечно finite.\n",
    "Первые четыре подходящие дроби непрерывной дроби:\n",
    "$$\\frac{a_0}{1},\\frac{a_1a_0+1}{a_1},\\frac{a_2(a_1a_0+1)+a_0}{a_2a_1+1},\\frac{a_3(a_2(a_1a_0+1)+a_0)+(a_1a_0+1)}{a_3(a_2a_1+1)+a_1}$$\n",
    "Если существуют последующие подходящие дроби, они могут быть вычислены рекурсивно. $h_i$ обозначим числители, а $k_i$ - знаменатели. Тогда ряд подходящих дробей может быть вычислен следующим образом:\n",
    "$$\\frac{h_i}{k_i}=\\frac{a_i h_{i-1}+h_{i-2}}{a_i k_{i-1}+k_{i-2}}$$\n",
    "Реализуйте алгоритм для нахождения элементов и подходящих дробей для любого рационального числа.\n",
    "\n",
    "*Подсказка: вы можете использовать алгоритм Евклида для вычисления элементов*"
   ]
  },
  {
   "cell_type": "code",
   "execution_count": 1,
   "metadata": {},
   "outputs": [],
   "source": [
    "def get_cont_frac(a, b):\n",
    "    \"\"\"Разложение в непрерывную дробь\"\"\"\n",
    "    cont_frac = []\n",
    "\n",
    "    while b:\n",
    "        q = a // b\n",
    "        cont_frac.append(q)\n",
    "        a, b = b, a - q * b\n",
    "    return cont_frac\n",
    "\n",
    "\n",
    "def get_convergents(a, b):\n",
    "    \"\"\"Получение подходящих дробей\"\"\"\n",
    "    cont_frac = get_cont_frac(a, b)\n",
    "\n",
    "    conv = [(cont_frac[0], 1), (cont_frac[1] * cont_frac[0] + 1, cont_frac[1])]\n",
    "\n",
    "    for i in range(2, len(cont_frac)):\n",
    "        k_i = cont_frac[i] * conv[i - 1][0] + conv[i - 2][0]\n",
    "        d_i = cont_frac[i] * conv[i - 1][1] + conv[i - 2][1]\n",
    "\n",
    "        conv.append((k_i, d_i))\n",
    "\n",
    "    return conv"
   ]
  },
  {
   "cell_type": "markdown",
   "metadata": {},
   "source": [
    "Теперь, когда вы написали алгоритм поиска подходящих дробей, давайте рассмотрим, как при их помощи найти $p$ и $q$. Поскольку $\\frac{k}{d}$  - это сокращенная дробь, знаменатель одной из подходящих дробей - это и есть закрытая экспонента $d$. Этого уже достаточно, чтобы расшифровать шифртекст, но мы может и факторизовать $N$. Мы также знаем $k$, а $\\varphi(N)=\\frac{ed-1}{k}$, значит мы можем вычислить $\\varphi(N)$.\n",
    "$$ N-\\varphi(N)= pq-(p-1)(q-1)=pq-pq+p+q-1=p+q-1$$\n",
    "$$q=N-\\varphi(N)-p+1$$\n",
    "$$N=pq=p(N-\\varphi(N)-p+1)=pN-p\\varphi(N)-p^2+p$$\n",
    "$$p^2-p(N-\\varphi(N)+1)+N=0$$\n",
    "Получаем красивое квадратное урванение, корнями которого и будут $p$ и $q$"
   ]
  },
  {
   "cell_type": "markdown",
   "metadata": {},
   "source": [
    "Давайте используем полученные знания на уязвимом сервере. Задача такая же, как и в blinding таске. Нужно отправить на сервер правильную подпись для сообщения 'flag', чтобы его получить.\n",
    "Шаги:\n",
    "1. Найти $d$ хитроумно используя непрерывные дроби\n",
    "2. Найти $p$ и $q$\n",
    "3. Подписать сообщение и послать на сервер\n",
    "4. Profit"
   ]
  },
  {
   "cell_type": "code",
   "execution_count": 2,
   "metadata": {},
   "outputs": [],
   "source": [
    "import socket\n",
    "import re\n",
    "from Crypto.Util.number import inverse, long_to_bytes, bytes_to_long\n",
    "\n",
    "\n",
    "class VulnServerClient:\n",
    "    def __init__(self, show=True):\n",
    "        \"\"\"Инициализация, подключаемся к серверу\"\"\"\n",
    "        self.s = socket.socket(socket.AF_INET, socket.SOCK_STREAM)\n",
    "        self.s.connect(('cryptotraining.zone', 1338))\n",
    "        if show:\n",
    "            print(self.recv_until().decode())\n",
    "\n",
    "    def recv_until(self, symb=b'\\n>'):\n",
    "        \"\"\"Получение сообщения с сервера, по умолчанию до приглашения к вводу команды\"\"\"\n",
    "        data = b''\n",
    "        while True:\n",
    "\n",
    "            data += self.s.recv(1)\n",
    "            if data[-len(symb):] == symb:\n",
    "                break\n",
    "        return data\n",
    "\n",
    "    def get_public_key(self, show=True):\n",
    "        \"\"\"Получение открытого ключа с сервера\"\"\"\n",
    "        self.s.sendall('public\\n'.encode())\n",
    "        response = self.recv_until().decode()\n",
    "        if show:\n",
    "            print(response)\n",
    "        e = int(re.search('(?<=e: )\\d+', response).group(0))\n",
    "        N = int(re.search('(?<=N: )\\d+', response).group(0))\n",
    "        self.num_len = len(long_to_bytes(N))\n",
    "        self.e, self.N = e, N\n",
    "        return (e, N)\n",
    "\n",
    "    def checkSignatureNumber(self, c, show=True):\n",
    "        \"\"\"Проверка сигнатуры (на сервере) для подписи в числовом представлении\"\"\"\n",
    "        try:\n",
    "            num_len = self.num_len\n",
    "        except KeyError:\n",
    "            print('You need to get the public key from the server first')\n",
    "            return\n",
    "        signature_bytes = long_to_bytes(c, num_len)\n",
    "        self.checkSignatureBytes(signature_bytes, show)\n",
    "\n",
    "    def checkSignatureBytes(self, c, show=True):\n",
    "        \"\"\"Проверка сигнатуры (на сервере) для подписи в байтовом представлении\"\"\"\n",
    "        try:\n",
    "            num_len = self.num_len\n",
    "        except KeyError:\n",
    "            print('You need to get the public key from the server first')\n",
    "            return\n",
    "        if len(c) > num_len:\n",
    "            print(\"The message is too long\")\n",
    "            return\n",
    "\n",
    "        hex_c = c.hex().encode()\n",
    "        self.s.sendall(b'flag ' + hex_c + b'\\n', )\n",
    "        response = self.recv_until(b'\\n').decode()\n",
    "\n",
    "        if show:\n",
    "            print(response)\n",
    "\n",
    "        if response.find('Wrong') != -1:\n",
    "            print('Wrong signature')\n",
    "            x = self.recv_until()\n",
    "            if show:\n",
    "                print(x)\n",
    "            return\n",
    "        flag = re.search('CRYPTOTRAINING\\{.*\\}', response).group(0)\n",
    "        print('FLAG: ', flag)\n",
    "\n",
    "    def setPrivateKey(self, p, q):\n",
    "        \"\"\"Выставить закрытый ключ\"\"\"\n",
    "        self.p = p\n",
    "        self.q = q\n",
    "        self.d = inverse(self.e, (p - 1) * (q - 1))\n",
    "\n",
    "    def signMessageBytes(self, m):\n",
    "        \"\"\"Подписать сообщение, после того как найден закрытый ключ\"\"\"\n",
    "        try:\n",
    "            num_len = self.num_len\n",
    "        except KeyError:\n",
    "            print('You need to get the public key from the server first')\n",
    "            return\n",
    "        if len(m) > num_len:\n",
    "            print('m too long')\n",
    "        if len(m) < num_len:\n",
    "            m = bytes([0x0] * (num_len - len(m))) + m\n",
    "        signature_bytes = long_to_bytes(pow(bytes_to_long(m), self.d, self.N))\n",
    "        return signature_bytes\n",
    "\n",
    "    def __del__(self):\n",
    "        self.s.close()"
   ]
  },
  {
   "cell_type": "code",
   "execution_count": 3,
   "metadata": {},
   "outputs": [
    {
     "name": "stdout",
     "output_type": "stream",
     "text": [
      "Welcome to the Wiener attack task\n",
      " Private exponent d is just 500 bits, so you should be able to find it\n",
      "Available commands:\n",
      "help - print this help\n",
      "public - show public key\n",
      "flag <hex(signature(b'flag'))> - print flag \n",
      "quit - quit\n",
      ">\n",
      "e: 8839551043978443608398025896780793202003010536758606314296322410796293227009006377928704733115527530568335157503545935668140280687677644384828827774341791741675311017053491920564415641618138819406621038589908795280642494559623024398109068612298406882999181546747809372362753924367242833372319005809150642099445908295931797686993337044287442366446944633023395286044870591661230521198944254856540088737753911491026348538755316415798095543587870314159684746164449762012523139033017984305566198737145039701834266332544305477425758867699770558649969398014284113283810963997678267189504521186597841548911958269916619229615\n",
      "N: 21256322430089598854338700689200271903675413740952314650877563305595200298214795840279408610649497535155919886199494094094113946327038855028353113112375895879962300398509983041529946508972985551107580008642754638478483800698496181236032754477863099560877646304578656434264999846507664057649629041155688091673087737339579837961500153140350438182833535429065058704101283648761716829403428808106034001141877596343293223936738847038329364163550282619308760978230688807431401649344355691016571996821077683391062587473841296561195823674862584848815178470969038968457357643287439205370389631026298698109507847364723418309709\n",
      ">\n"
     ]
    }
   ],
   "source": [
    "vs = VulnServerClient()\n",
    "(e, N) = vs.get_public_key()"
   ]
  },
  {
   "cell_type": "code",
   "execution_count": 4,
   "metadata": {},
   "outputs": [],
   "source": [
    "from gmpy2 import iroot"
   ]
  },
  {
   "cell_type": "code",
   "execution_count": 6,
   "metadata": {},
   "outputs": [],
   "source": [
    "def get_p_q(convergents):\n",
    "    \"\"\"Исследование подходящих дробей и нахождение p и q\"\"\"\n",
    "    for k, d in convergents[1:]:\n",
    "        # определение возможного значения phi\n",
    "        phi = (e * d - 1) // k\n",
    "        # решение уравнения x**2 - (N - phi + 1) * x + N = 0\n",
    "        b = -(N - phi + 1)\n",
    "        discr = (b**2 - 4 * N)\n",
    "        if discr > 0:\n",
    "            sq, f = iroot(discr, 2)\n",
    "            if f == True:\n",
    "                p = (-b + sq) // 2\n",
    "                q = (-b - sq) // 2\n",
    "                # проверка выполнения равенства N = p * q\n",
    "                if N == p * q:\n",
    "                    print('d:', d, 'p:', p, 'q:', q)\n",
    "                    return p, q"
   ]
  },
  {
   "cell_type": "code",
   "execution_count": 7,
   "metadata": {},
   "outputs": [
    {
     "name": "stdout",
     "output_type": "stream",
     "text": [
      "d: 3102794603368243249719412084255152865637250744017305757809527035623495527942620237297923432659769774986945116500519246159799961252840398383108205151983 p: 156190243542713178546133591618115991566104848346483911121893359600424661962363062090525433061962637989648172415348320523952898956251235669114124314153049479243398091311619055077493727944760608305387943043036516945574798031496567508438314799787906601725336156961527771902467150661872542888678389682785149736197 q: 136092510953007478570268384418028319537003108536186942830256936577042373320325053196669130154642028704633351272137188377275391894594727726004718093237280474867177186682800426026826869420613201312092075339135890518015390043792996627991826829487256323031372594451747915282334925718975430328630526948741604553897\n",
      "Congratulations! Here is your flag: CRYPTOTRAINING{p1ck_4_l177l3_d_4nd_4ll_y0ur_s3cr37s_4r3_g0n3}\n",
      "\n",
      "FLAG:  CRYPTOTRAINING{p1ck_4_l177l3_d_4nd_4ll_y0ur_s3cr37s_4r3_g0n3}\n"
     ]
    }
   ],
   "source": [
    "# найдем непрерывные дроби\n",
    "convergents = get_convergents(e, N)\n",
    "\n",
    "# найдем p и q\n",
    "p, q = get_p_q(convergents)\n",
    "\n",
    "# выставим закрытый ключ\n",
    "vs.setPrivateKey(p, q)\n",
    "\n",
    "# получим подпись для сообщения 'flag'\n",
    "c = vs.signMessageBytes(b'flag')\n",
    "\n",
    "# проверим подпись\n",
    "vs.checkSignatureBytes(c)"
   ]
  },
  {
   "cell_type": "code",
   "execution_count": null,
   "metadata": {},
   "outputs": [],
   "source": []
  }
 ],
 "metadata": {
  "kernelspec": {
   "display_name": "Python 3",
   "language": "python",
   "name": "python3"
  },
  "language_info": {
   "codemirror_mode": {
    "name": "ipython",
    "version": 3
   },
   "file_extension": ".py",
   "mimetype": "text/x-python",
   "name": "python",
   "nbconvert_exporter": "python",
   "pygments_lexer": "ipython3",
   "version": "3.7.5"
  },
  "varInspector": {
   "cols": {
    "lenName": 16,
    "lenType": 16,
    "lenVar": 40
   },
   "kernels_config": {
    "python": {
     "delete_cmd_postfix": "",
     "delete_cmd_prefix": "del ",
     "library": "var_list.py",
     "varRefreshCmd": "print(var_dic_list())"
    },
    "r": {
     "delete_cmd_postfix": ") ",
     "delete_cmd_prefix": "rm(",
     "library": "var_list.r",
     "varRefreshCmd": "cat(var_dic_list()) "
    }
   },
   "position": {
    "height": "303px",
    "left": "1369px",
    "right": "20px",
    "top": "105px",
    "width": "530px"
   },
   "types_to_exclude": [
    "module",
    "function",
    "builtin_function_or_method",
    "instance",
    "_Feature"
   ],
   "window_display": true
  }
 },
 "nbformat": 4,
 "nbformat_minor": 2
}
