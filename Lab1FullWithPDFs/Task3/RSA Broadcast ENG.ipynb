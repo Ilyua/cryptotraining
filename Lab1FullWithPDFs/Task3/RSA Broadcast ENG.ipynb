{
 "cells": [
  {
   "cell_type": "markdown",
   "metadata": {},
   "source": [
    "# RSA Broadcast attack\n",
    "So, imagine that you use public exponent $e=3$ (it was quite popular a long time ago), but you only choose messages that wrap the modulus $N$, so there is no option of taking cubic root. Is it really safe? Well, there is a very simple scenario, that shows that it's not.\n",
    "Imagine, that you have a client, that uses RSA to send messages to your server. But he also sends messages to several other servers. Say, 3. The same message gets encrypted three times: with your public key, with another guy public key and with one more key.\n",
    "$$C_1=M^{3} mod N_1$$\n",
    "$$C_2=M^{3} mod N_2$$\n",
    "$$C_3=M^{3} mod N_3$$\n",
    "It is next to impossible to break each $C_{i}$ on its own, but with three, Marvin can solve the puzzle.\n",
    "## Chinese remainder theorem\n",
    "If one knows the remainders of Euclidian division of an integer $n$ by several integers, then once can determine uniquely the remainder of the division of $n$ by the product of these integers, under the condition that the divisors are pairwise coprime.\n",
    "\n",
    "So how can we use this theorem? First, we need to check, that all the divisors ($N_1, N_2, N_3$) are pairwise coprime. Well, if they are not coprime, than we can find the greatest commond divisor of non-coprime ones and factor them, which would allow us to decrypt the message. So let's assume that they are. This means, that we can find such $X$, that:\n",
    "$$ X\\lt N_1 N_2 N_3$$\n",
    "$$ X = C_1 mod N_1 $$\n",
    "$$ X = C_2 mod N_2 $$\n",
    "$$ X = C_3 mod N_3 $$\n",
    "and also such $X$ is unique. Let's look at $C=M^{3}$. Since $M\\lt N_1$ and $M\\lt N_2$ and $M\\lt N_3$, then $C=M^3\\lt N_1N_2N_3$. Also:\n",
    "$$ C = C_1 mod N_1 $$\n",
    "$$ C = C_2 mod N_2 $$\n",
    "$$ C = C_3 mod N_3 $$\n",
    "\n",
    "So by using Chinese Remainder Theorem we can find $C$, and all that's left is to take a cubic root. \n",
    "## How to find C\n",
    "\n",
    "Let $N_i, i=1,k$ be divisors and $c_i, i=1,k$ their respective remainders. $N=N_1N_2...N_k$, а $M_i=N/N_i$\n",
    "Then $C=(\\sum_{i=0}^{k}C_iM_i(M_i^{-1}\\space mod\\space N_i))\\space mod\\space N$\n",
    "\n",
    "Use the equation to find $C$ and get the flag from the three ciphertexts that you'll receive from the server. Good luck!"
   ]
  },
  {
   "cell_type": "code",
   "execution_count": 1,
   "metadata": {},
   "outputs": [],
   "source": [
    "import socket\n",
    "import re\n",
    "from Crypto.Util.number import inverse,long_to_bytes,bytes_to_long\n",
    "class VulnServerClient:\n",
    "    def __init__(self,show=True):\n",
    "        \"\"\"Initialization, connecting to server\"\"\"\n",
    "        self.s=socket.socket(socket.AF_INET,socket.SOCK_STREAM)\n",
    "        self.s.connect(('cryptotraining.zone',1339))\n",
    "        if show:\n",
    "            print (self.recv_until().decode())\n",
    "    def recv_until(self,symb=b'\\n>'):\n",
    "        \"\"\"Receive messages from server, by default till new prompt\"\"\"\n",
    "        data=b''\n",
    "        while True:\n",
    "            \n",
    "            data+=self.s.recv(1)\n",
    "            if data[-len(symb):]==symb:\n",
    "                break\n",
    "        return data\n",
    "    def get_public_keys(self,show=True):\n",
    "        \"\"\"Receive public keys from the server\"\"\"\n",
    "        self.s.sendall('public\\n'.encode())\n",
    "        response=self.recv_until().decode()\n",
    "        if show:\n",
    "            print (response)\n",
    "        e1=int(re.search('(?<=e1: )\\d+',response).group(0))\n",
    "        N1=int(re.search('(?<=N1: )\\d+',response).group(0))\n",
    "        e2=int(re.search('(?<=e2: )\\d+',response).group(0))\n",
    "        N2=int(re.search('(?<=N2: )\\d+',response).group(0))\n",
    "        e3=int(re.search('(?<=e3: )\\d+',response).group(0))\n",
    "        N3=int(re.search('(?<=N3: )\\d+',response).group(0))\n",
    "       \n",
    "        return [(e1,N1),(e2,N2),(e3,N3)]\n",
    "    \n",
    "    def get_ciphertexts(self,show=True):\n",
    "        \"\"\"Receive ciphertexts from the server\"\"\"\n",
    "        self.s.sendall('ciphertext\\n'.encode())\n",
    "        response=self.recv_until().decode()\n",
    "        if show:\n",
    "            print (response)\n",
    "        c1=bytes_to_long(bytes.fromhex(re.search('(?<=ciphertext1: )[0-9a-f]+',response).group(0)))\n",
    "        c2=bytes_to_long(bytes.fromhex(re.search('(?<=ciphertext2: )[0-9a-f]+',response).group(0)))\n",
    "        c3=bytes_to_long(bytes.fromhex(re.search('(?<=ciphertext3: )[0-9a-f]+',response).group(0)))\n",
    "        return (c1,c2,c3)\n",
    "    \n",
    "    def __del__(self):\n",
    "        self.s.close()"
   ]
  },
  {
   "cell_type": "code",
   "execution_count": 2,
   "metadata": {},
   "outputs": [
    {
     "name": "stdout",
     "output_type": "stream",
     "text": [
      "Welcome to RSA broadcast task\n",
      "Available commands:\n",
      "help - print this help\n",
      "public - show public keys\n",
      "ciphertext - show ciphertexts \n",
      "quit - quit\n",
      ">\n",
      "e1: 3\n",
      "N1: 20287982006618431876793244706487063574769448388426702838915722457901061849764724362603953179532539827554365329323483013276648891796378507103593000936891322846098718727133325953848182431476448546554772557085987908949429403596359635314342612889908898272272322173341141651567301687427226491229442385493785765699715986462483124423171652756203919879715705590771525305446788322512844427648822922682205388423707896633544989180321378196798302096862401020103125458117084856441433418990681274327810046291890889882496621395403208554291777227706389355365678885157011052465893070731243360783878242460400701935579682716345964783581\n",
      "e2: 3\n",
      "N2: 19461826656993775602233892694656909792660373232000384211810816270789889052589469816096210883392037679550505993511270364500797371312576866213808413522877454484246665882296260574836114845774508160454919015698629693496502771810686240938284171569805695526555520462083926138883082679634917670424266929946383084251256468837273326912092208940625101043763498093638370447210108863078605853774242172930718622708737748976038337571022634250268274774822635019271377670016639627161725800462583593896973670423618252522178792273236621081346461328594345840083635843484645510028216017215548443817635021486579987845849015834525248403569\n",
      "e3: 3\n",
      "N3: 21576795955319933162780162589243062240645136282924505451251041003657099282869673355978198759111854333367400351912013889901987539198013436519618746390965187494910390993435720830028431908565639307591762759339257606796030370738921636096216645709545215831401851924391603834909587547717965886038909571205493235023856062705676055360542606197699270956623612059434468808913014252873711664669036001476876033466801652854702139322954477234402112795351169729172489093923989602378894935730692029233994479659125804897566493371387587415881461191354808207296101428931163742336124780799892673415800666168690355458502317617665949937541\n",
      ">\n",
      "ciphertext1: 30d097f552419a68a8611903f6f0cf3d1baf14672d28151eab8307835fd78fa3347d250555beada3bcdae7d796f45139f1127db71c591a745246118139ad3a06a8ded25526e8af117232b3a75b7eee7fd197b3fafb83d5a41dd091752138c734ddfafc92bb68f1232412d6be328a096f61522fe4bda4e7d521b68c411c39929e2bfa851d9619eddcbd6782a4f3f667300960e2f683ccb75fa8cfc0ebd624701b05203f1e7981d8d39866cd35ddc6b42fdd9a5fe4dab257069cd756b3b59917fb4c1d02709d76999db9afc96bf2bddda6115382d555816756f7cbbb6a3510ab7521dbfa09903c2642ee0de5bd97493a8f3c80edeff79999552f69f20f6042afb7\n",
      "ciphertext2: 6c304723aae36f6613e75546a851364ddb241ae531c4700dccf3e68483c44c87788af7972b5526bf3d1d49884405010c1c41e4e086f1c73a070e8311add5041be1b8348c728220a4a569b1298e74a4ada1a675aa76d8dbf80ae127772556efbdfc3b8451e130d65513437a4a3f6a9feeec0cb68007739462d3b02d35ff5709c7cf5ce11d6d7f00d72044c7a902ff3ad5f8e2552891af24daf96d3afe83e0f349f3d46930b3b62e0a7ab63b7f87711da3e3834500f97fa91fb074e3f2c2342123f94aa2c777bedfb0cac3b975add559f32731563ee2a628c58af737d3fee8d0292f3ce9e8bec5554f29f0fcd38e3bc72bac31567d6d9bed1450556681a2ab7ce8\n",
      "ciphertext3: 41d6a25a3bcae7cdd3140282f2d979d428c49bd314cbb28381956358a2f6e83dae2f882a74ef041421ee3957c4704174b8f295a774e09e099028a79b2599d2927b3603c2c5c1748a09ccfe0a84dd33b120f312e55a456f7a9f32f158b3c85b70ccbb1f36511557d01d3be6dea32aa2e949332f2ae6600d45f1abd319d4054263bce01b176adb604c132493eaf57741696e073874df075be3e50270b0333cff20bcd7c1fd99f476aada0f420de07a2aa049681acc2ebc60507f5090fb47e27bc441b64075970e4ff5aed0770240f8de6f01fdb4305e25524d964b466ec5d5eabebdca58d1c189c199a7ad335ad1803b80c2bf4d39ddf3d2d51f61b886272e59b1\n",
      ">\n"
     ]
    }
   ],
   "source": [
    "vs=VulnServerClient()\n",
    "pk_list=vs.get_public_keys()\n",
    "(c1,c2,c3)=vs.get_ciphertexts()"
   ]
  },
  {
   "cell_type": "code",
   "execution_count": null,
   "metadata": {},
   "outputs": [],
   "source": []
  },
  {
   "cell_type": "code",
   "execution_count": null,
   "metadata": {},
   "outputs": [],
   "source": []
  }
 ],
 "metadata": {
  "kernelspec": {
   "display_name": "Python 3",
   "language": "python",
   "name": "python3"
  },
  "language_info": {
   "codemirror_mode": {
    "name": "ipython",
    "version": 3
   },
   "file_extension": ".py",
   "mimetype": "text/x-python",
   "name": "python",
   "nbconvert_exporter": "python",
   "pygments_lexer": "ipython3",
   "version": "3.6.9"
  }
 },
 "nbformat": 4,
 "nbformat_minor": 2
}
