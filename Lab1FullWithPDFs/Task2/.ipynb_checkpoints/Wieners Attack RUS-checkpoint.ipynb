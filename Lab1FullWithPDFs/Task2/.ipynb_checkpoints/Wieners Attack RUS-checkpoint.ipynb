{
 "cells": [
  {
   "cell_type": "markdown",
   "metadata": {},
   "source": [
    "# Атака Винера\n",
    "Расшифрование или создание подписи при помощи RSA обычно достаточно энергоёмкий и долгий процесс, так как мы не можем просто выбрать красивую закрытую экспоненту $d$ с низким весом Гэмминга (её очень просто было бы угадать). Поэтому у людей иногда появляется позыв выбрать такую открытую экспоненту $e$, что длина $d$ в битах в несколько раз меньше, чем длина модуля $N$, например, $N$ - 2048, а $d$ - 500 бит. Интуитивно может показаться, что раз $d$ сложно угадать (всё-таки 500 бит), можно быть спокойным за безопасной криптосистемы. К сожалению, это очень опасная ошибка. \n",
    "## Теорема (M. Wiener)\n",
    "Пусть $N = pq$ с $q<p<2q$. Пусть $d<\\frac{1}{3}N^{\\frac{1}{4}}$. Зная $(N,e)$, у которого $ed=1\\space mod\\space \\varphi(N)$, Марвин может эффективно восстановить $d$.\n",
    "\n",
    "### Доказательство (взято из [Twenty Years of Attacks on the RSA Cryptosystem](http://crypto.stanford.edu/~dabo/papers/RSA-survey.pdf) в авторстве Dan Boneh)\n",
    "\n",
    "Доказательство основывается на приближенных значениях при использовании непрерывных дробей. Поскольку существует $ed=1\\space mod\\space \\varphi(N)$, то сучществует такое $k$, что $ed-k\\varphi(N)=1$. Следовательно,\n",
    "$$\\lvert\\frac{e}{\\varphi(N)}-\\frac{k}{d}\\rvert=\\frac{1}{d\\varphi(N)}$$\n",
    "Значит, $\\frac{k}{d}$  - это приближенное значение к $\\frac{e}{\\varphi(N)}$. Хоть Марвин и не знает $\\varphi(N)$, он може воспользоваться $N$, чтобы получить его примерную оценку. Действительно, раз $\\varphi(N)=N-p-q+1$ и $p+q-1<3\\sqrt{N}$, получается, что $\\lvert N-\\varphi(N)\\rvert<3\\sqrt{N}$\n",
    "\n",
    "Подставляя $N$ вместо $\\varphi(N)$ получаем:\n",
    "$$\\lvert\\frac{e}{N}-\\frac{k}{d}\\rvert=\\lvert\\frac{ed-k\\varphi(N)-kN+k\\varphi(N)}{Nd}\\rvert=\\lvert\\frac{1-k(N-\\varphi(N))}{Nd}\\rvert\\le\\lvert\\frac{3k\\sqrt(N)}{Nd}\\rvert=\\frac{3k}{d\\sqrt{N}}$$\n",
    "Заметим, что $k\\varphi(N)=ed-1 \\lt ed$. Так как $e \\lt N$, видно, чтоt $k \\lt d \\lt \\frac{1}{3}N^{\\frac{1}{4}}$. Поэтому получаем:\n",
    "$$\\lvert\\frac{e}{N}-\\frac{k}{d}\\rvert\\le \\frac{1}{dN^{\\frac{1}{4}}}\\lt\\frac{1}{2d^2}$$\n",
    "\n",
    "Это классическое отношение приближения. Количество дробей $\\frac{k}{d}$ with $d\\lt N$, дающих приближенное значение $\\frac{e}{N}$ с такой точностью, ограничено $log_{2}N$ На самом деле, все такие дроби могут быть получены как подходящие дроби непрерывной дроби $\\frac{e}{N}$. Всё, что надо сделать, это посчитать $log\\space N$ подходящих дробей непрерывной дроби $\\frac{e}{N}$. Одна из них будет равна $\\frac{k}{d}$. Так как $ed-k\\varphi(N)=1$, то $НОД(k,d)=1$ и значит $\\frac{k}{d}$ - это сокращенная дробь. Это и есть линейный по времени алгоритм восстановления закрытого ключа $d$. **ЧТД**"
   ]
  },
  {
   "cell_type": "markdown",
   "metadata": {},
   "source": [
    "## Непрерывные и подходящие дроби\n",
    "*Непрерывная дробь*  - это выражение, полученное при помощи последовательного процесса представления числа как суммы его целочисленной части и обратного элемента по умножению к оставшейся части, далее представляя эту оставшуюся часть, как сумму целочисленной части и обратного элемента и так далее.\n",
    "Пример:\n",
    "Для действительного числа $x>0$ и целых положительных $a_{i}$, for $i=1,...,n$ \n",
    "$$x=a_{0}+\\frac{1}{a_{1}+\\frac{1}{a_{2}+\\frac{1}{\\ddots+\\frac{1}{a_{n}}}}}$$ - \n",
    "это непрерывная дробь. Целые числа $a_0, a_1$, и т.д., называются *элементами* или *неполными частными* непрерывной дроби. Есть много способов записи непрерывных дробей, мы будем использовать следующую:\n",
    "$$x=[a_0;a_1,a_2,...]$$\n",
    "Непрерывная дробь может сформировать своё приближение при помощи первых элементов. Таки приближения называются *подходящими дробями*.\n",
    "Очевидно, что для рационального $x$ количество таких подходящих дробей конечно finite.\n",
    "Первые четыре подходящие дроби непрерывной дроби:\n",
    "$$\\frac{a_0}{1},\\frac{a_1a_0+1}{a_1},\\frac{a_2(a_1a_0+1)+a_0}{a_2a_1+1},\\frac{a_3(a_2(a_1a_0+1)+a_0)+(a_1a_0+1)}{a_3(a_2a_1+1)+a_1}$$\n",
    "Если существуют последующие подходящие дроби, они могут быть вычислены рекурсивно. $h_i$ обозначим числители, а $k_i$ - знаменатели. Тогда ряд подходящих дробей может быть вычислен следующим образом:\n",
    "$$\\frac{h_i}{k_i}=\\frac{a_i h_{i-1}+h_{i-2}}{a_i k_{i-1}+k_{i-2}}$$\n",
    "Реализуйте алгоритм для нахождения элементов и подходящих дробей для любого рационального числа.\n",
    "\n",
    "*Подсказка: вы можете использовать алгоритм Евклида для вычисления элементов*"
   ]
  },
  {
   "cell_type": "code",
   "execution_count": 26,
   "metadata": {},
   "outputs": [],
   "source": [
    "def get_k(a):\n",
    "    k=[]\n",
    "    k.append(1)\n",
    "    k.append(a[1])\n",
    "    for i in tqdm(range(len(a))):\n",
    "#         print('{}/{}\\r'.format(i,len(a)),end='')\n",
    "        k.append(a[i]*k[i-1]+k[i-2])\n",
    "    return k\n",
    "\n",
    "def get_h(a):\n",
    "    h=[]\n",
    "    h.append(a[0])\n",
    "    h.append(a[1]*a[0]+1)\n",
    "    l=len(a)\n",
    "    for i in tqdm(range(l)):\n",
    "#         print('{}/{} \\r'.format(i,l),end='')\n",
    "        h.append(a[i]*h[i-1]+h[i-2])\n",
    "    return h"
   ]
  },
  {
   "cell_type": "code",
   "execution_count": 27,
   "metadata": {},
   "outputs": [],
   "source": [
    "# def getAppropFrac(x,n):\n",
    "#     contFrac=contFrac(x)\n",
    "#     h1,k1=(contFrac[0],1)\n",
    "#     h2,k2=(contFrac[0]*contFrac[1]+1,contFrac[1])\n",
    "#     for \n",
    "#     return \n",
    "    "
   ]
  },
  {
   "cell_type": "markdown",
   "metadata": {},
   "source": [
    "Теперь, когда вы написали алгоритм поиска подходящих дробей, давайте рассмотрим, как при их помощи найти $p$ и $q$. Поскольку $\\frac{k}{d}$  - это сокращенная дробь, знаменатель одной из подходящих дробей - это и есть закрытая экспонента $d$. Этого уже достаточно, чтобы расшифровать шифртекст, но мы может и факторизовать $N$. Мы также знаем $k$, а $\\varphi(N)=\\frac{ed-1}{k}$, значит мы можем вычислить $\\varphi(N)$.\n",
    "$$ N-\\varphi(N)= pq-(p-1)(q-1)=pq-pq+p+q-1=p+q-1$$\n",
    "$$q=N-\\varphi(N)-p+1$$\n",
    "$$N=pq=p(N-\\varphi(N)-p+1)=pN-p\\varphi(N)-p^2+p$$\n",
    "$$p^2-p(N-\\varphi(N)+1)+N=0$$\n",
    "Получаем красивое квадратное урванение, корнями которого и будут $p$ и $q$"
   ]
  },
  {
   "cell_type": "markdown",
   "metadata": {},
   "source": [
    "Давайте используем полученные знания на уязвимом сервере. Задача такая же, как и в blinding таске. Нужно отправить на сервер правильную подпись для сообщения 'flag', чтобы его получить.\n",
    "Шаги:\n",
    "1. Найти $d$ хитроумно используя непрерывные дроби\n",
    "2. Найти $p$ и $q$\n",
    "3. Подписать сообщение и послать на сервер\n",
    "4. Profit"
   ]
  },
  {
   "cell_type": "code",
   "execution_count": 28,
   "metadata": {},
   "outputs": [],
   "source": [
    "import socket\n",
    "import re\n",
    "from Crypto.Util.number import inverse,long_to_bytes,bytes_to_long\n",
    "class VulnServerClient:\n",
    "    def __init__(self,show=True):\n",
    "        \"\"\"Инициализация, подключаемся к серверу\"\"\"\n",
    "        self.s=socket.socket(socket.AF_INET,socket.SOCK_STREAM)\n",
    "        self.s.connect(('cryptotraining.zone',1338))\n",
    "        if show:\n",
    "            print (self.recv_until().decode())\n",
    "    def recv_until(self,symb=b'\\n>'):\n",
    "        \"\"\"Получение сообщения с сервера, по умолчанию до приглашения к вводу команды\"\"\"\n",
    "        data=b''\n",
    "        while True:\n",
    "            \n",
    "            data+=self.s.recv(1)\n",
    "            if data[-len(symb):]==symb:\n",
    "                break\n",
    "        return data\n",
    "    def get_public_key(self,show=True):\n",
    "        \"\"\"Получение открытого ключа с сервера\"\"\"\n",
    "        self.s.sendall('public\\n'.encode())\n",
    "        response=self.recv_until().decode()\n",
    "        if show:\n",
    "            print (response)\n",
    "        e=int(re.search('(?<=e: )\\d+',response).group(0))\n",
    "        N=int(re.search('(?<=N: )\\d+',response).group(0))\n",
    "        self.num_len=len(long_to_bytes(N))\n",
    "        self.e,self.N=e,N\n",
    "        return (e,N)\n",
    "        \n",
    "    def checkSignatureNumber(self,c,show=True):\n",
    "        \"\"\"Проверка сигнатуры (на сервере) для подписи в числовом представлении\"\"\"\n",
    "        try:\n",
    "            num_len=self.num_len\n",
    "        except KeyError:\n",
    "            print ('You need to get the public key from the server first')\n",
    "            return\n",
    "        signature_bytes=long_to_bytes(c,num_len)\n",
    "        self.checkSignatureBytes(signature_bytes,show)\n",
    "    \n",
    "    def checkSignatureBytes(self,c,show=True):\n",
    "        \"\"\"Проверка сигнатуры (на сервере) для подписи в байтовом представлении\"\"\"\n",
    "        try:\n",
    "            num_len=self.num_len\n",
    "        except KeyError:\n",
    "            print ('You need to get the public key from the server first')\n",
    "            return\n",
    "        if len(c)>num_len:\n",
    "            print (\"The message is too long\")\n",
    "            return\n",
    "        \n",
    "        hex_c=c.hex().encode()\n",
    "        self.s.sendall(b'flag '+hex_c+b'\\n',)\n",
    "        response=self.recv_until(b'\\n').decode()\n",
    "        \n",
    "        if show:\n",
    "            print (response)\n",
    "        \n",
    "        if response.find('Wrong')!=-1:\n",
    "            print('Wrong signature')\n",
    "            x=self.recv_until()\n",
    "            if show:\n",
    "                print (x)\n",
    "            return\n",
    "        flag=re.search('CRYPTOTRAINING\\{.*\\}',response).group(0)\n",
    "        print ('FLAG: ',flag)\n",
    "    def setPrivateKey(self,p,q):\n",
    "        \"\"\"Выставить закрытый ключ\"\"\"\n",
    "        self.p=p\n",
    "        self.q=q\n",
    "        self.d=inverse(self.e,(p-1)*(q-1))\n",
    "    \n",
    "    def signMessageBytes(self,m):\n",
    "        \"\"\"Подписать сообщение, после того как найден закрытый ключ\"\"\"\n",
    "        try:\n",
    "            num_len=self.num_len\n",
    "        except KeyError:\n",
    "            print ('You need to get the public key from the server first')\n",
    "            return\n",
    "        if len(m)>num_len:\n",
    "            print('m too long')\n",
    "        if len(m)<num_len:\n",
    "            m=bytes([0x0]*(num_len-len(m))) + m\n",
    "        signature_bytes=long_to_bytes(pow(bytes_to_long(m),self.d,self.N))\n",
    "        return signature_bytes\n",
    "    \n",
    "    def __del__(self):\n",
    "        self.s.close()"
   ]
  },
  {
   "cell_type": "code",
   "execution_count": 29,
   "metadata": {},
   "outputs": [
    {
     "name": "stdout",
     "output_type": "stream",
     "text": [
      "Welcome to the Wiener attack task\n",
      " Private exponent d is just 500 bits, so you should be able to find it\n",
      "Available commands:\n",
      "help - print this help\n",
      "public - show public key\n",
      "flag <hex(signature(b'flag'))> - print flag \n",
      "quit - quit\n",
      ">\n",
      "e: 8839551043978443608398025896780793202003010536758606314296322410796293227009006377928704733115527530568335157503545935668140280687677644384828827774341791741675311017053491920564415641618138819406621038589908795280642494559623024398109068612298406882999181546747809372362753924367242833372319005809150642099445908295931797686993337044287442366446944633023395286044870591661230521198944254856540088737753911491026348538755316415798095543587870314159684746164449762012523139033017984305566198737145039701834266332544305477425758867699770558649969398014284113283810963997678267189504521186597841548911958269916619229615\n",
      "N: 21256322430089598854338700689200271903675413740952314650877563305595200298214795840279408610649497535155919886199494094094113946327038855028353113112375895879962300398509983041529946508972985551107580008642754638478483800698496181236032754477863099560877646304578656434264999846507664057649629041155688091673087737339579837961500153140350438182833535429065058704101283648761716829403428808106034001141877596343293223936738847038329364163550282619308760978230688807431401649344355691016571996821077683391062587473841296561195823674862584848815178470969038968457357643287439205370389631026298698109507847364723418309709\n",
      ">\n"
     ]
    }
   ],
   "source": [
    "vs=VulnServerClient()\n",
    "(e,N)=vs.get_public_key()"
   ]
  },
  {
   "cell_type": "code",
   "execution_count": 30,
   "metadata": {},
   "outputs": [
    {
     "data": {
      "application/vnd.jupyter.widget-view+json": {
       "model_id": "0120f7888e7941b88d38bd55212ad2f9",
       "version_major": 2,
       "version_minor": 0
      },
      "text/plain": [
       "HBox(children=(IntProgress(value=1, bar_style='info', max=1), HTML(value='')))"
      ]
     },
     "metadata": {},
     "output_type": "display_data"
    }
   ],
   "source": [
    "import numpy as np\n",
    "from tqdm.auto import tqdm\n",
    "tqdm().pandas()"
   ]
  },
  {
   "cell_type": "code",
   "execution_count": 31,
   "metadata": {},
   "outputs": [],
   "source": [
    "# def prime_factorization(n):\n",
    "#     '''returns the prime factorization of a number; author: Wazim Karim'''\n",
    "#     factors=[]\n",
    "#     i = 2\n",
    "#     while n >= i:\n",
    "#         if i%10000000==0:\n",
    "#             print(i)\n",
    "#         if n%i == 0:  \n",
    "#             factors.append(i) \n",
    "#             n = n//i\n",
    "#             i=2 \n",
    "#         else:\n",
    "#             i = i+1 \n",
    "#     return factors\n"
   ]
  },
  {
   "cell_type": "code",
   "execution_count": 32,
   "metadata": {},
   "outputs": [
    {
     "data": {
      "text/plain": [
       "21256322430089598854338700689200271903675413740952314650877563305595200298214795840279408610649497535155919886199494094094113946327038855028353113112375895879962300398509983041529946508972985551107580008642754638478483800698496181236032754477863099560877646304578656434264999846507664057649629041155688091673087737339579837961500153140350438182833535429065058704101283648761716829403428808106034001141877596343293223936738847038329364163550282619308760978230688807431401649344355691016571996821077683391062587473841296561195823674862584848815178470969038968457357643287439205370389631026298698109507847364723418309709"
      ]
     },
     "execution_count": 32,
     "metadata": {},
     "output_type": "execute_result"
    }
   ],
   "source": [
    "N"
   ]
  },
  {
   "cell_type": "code",
   "execution_count": 33,
   "metadata": {},
   "outputs": [],
   "source": [
    "def contFract(N,th=0.000006):\n",
    "    while True:\n",
    "        yield int(N//1)\n",
    "        f = N - (N//1)\n",
    "        if f < th:  # or whatever precision you consider close enough to 0\n",
    "            break         \n",
    "        N = 1/f"
   ]
  },
  {
   "cell_type": "code",
   "execution_count": 56,
   "metadata": {},
   "outputs": [],
   "source": [
    "a=list(contFract(e/N,th=0.000001))"
   ]
  },
  {
   "cell_type": "code",
   "execution_count": 57,
   "metadata": {},
   "outputs": [
    {
     "data": {
      "text/plain": [
       "0.4158551448892932"
      ]
     },
     "execution_count": 57,
     "metadata": {},
     "output_type": "execute_result"
    }
   ],
   "source": [
    "e/N"
   ]
  },
  {
   "cell_type": "code",
   "execution_count": 58,
   "metadata": {},
   "outputs": [
    {
     "data": {
      "text/plain": [
       "765889"
      ]
     },
     "execution_count": 58,
     "metadata": {},
     "output_type": "execute_result"
    }
   ],
   "source": [
    "len(a)"
   ]
  },
  {
   "cell_type": "code",
   "execution_count": 59,
   "metadata": {},
   "outputs": [],
   "source": [
    "# def get_k(a):\n",
    "#     k=[]\n",
    "#     k.append(a[0])\n",
    "#     k.append(a[0]*a[1]+1)\n",
    "#     for i in tqdm(range(len(a))):\n",
    "# #         print('{}/{}\\r'.format(i,len(a)),end='')\n",
    "#         k.append(a[i]*k[i-1]+k[i-2])\n",
    "#     return k"
   ]
  },
  {
   "cell_type": "code",
   "execution_count": 38,
   "metadata": {},
   "outputs": [],
   "source": [
    "# def get_h(a):\n",
    "#     h=[]\n",
    "#     h.append(1)\n",
    "#     h.append(a[1])\n",
    "#     l=len(a)\n",
    "#     for i in tqdm(range(l)):\n",
    "# #         print('{}/{} \\r'.format(i,l),end='')\n",
    "#         h.append(a[i]*h[i-1]+h[i-2])\n",
    "#     return h"
   ]
  },
  {
   "cell_type": "code",
   "execution_count": null,
   "metadata": {},
   "outputs": [],
   "source": []
  },
  {
   "cell_type": "code",
   "execution_count": 61,
   "metadata": {
    "scrolled": true
   },
   "outputs": [
    {
     "data": {
      "application/vnd.jupyter.widget-view+json": {
       "model_id": "7944daa1bbb04fe5a2af2868760f807f",
       "version_major": 2,
       "version_minor": 0
      },
      "text/plain": [
       "HBox(children=(IntProgress(value=0, max=765889), HTML(value='')))"
      ]
     },
     "metadata": {},
     "output_type": "display_data"
    },
    {
     "name": "stdout",
     "output_type": "stream",
     "text": [
      "\n"
     ]
    }
   ],
   "source": [
    "hs=get_h(a)"
   ]
  },
  {
   "cell_type": "code",
   "execution_count": 62,
   "metadata": {},
   "outputs": [
    {
     "data": {
      "application/vnd.jupyter.widget-view+json": {
       "model_id": "f1d32178c2144432a472bcb4e97e26bc",
       "version_major": 2,
       "version_minor": 0
      },
      "text/plain": [
       "HBox(children=(IntProgress(value=0, max=765889), HTML(value='')))"
      ]
     },
     "metadata": {},
     "output_type": "display_data"
    },
    {
     "name": "stdout",
     "output_type": "stream",
     "text": [
      "\n"
     ]
    }
   ],
   "source": [
    "ks=get_k(a)"
   ]
  },
  {
   "cell_type": "code",
   "execution_count": 63,
   "metadata": {},
   "outputs": [],
   "source": [
    "hs=hs[300_000:]\n",
    "ks=ks[300_00:]"
   ]
  },
  {
   "cell_type": "code",
   "execution_count": 64,
   "metadata": {},
   "outputs": [],
   "source": [
    "import math"
   ]
  },
  {
   "cell_type": "code",
   "execution_count": 65,
   "metadata": {},
   "outputs": [
    {
     "data": {
      "text/plain": [
       "465891"
      ]
     },
     "execution_count": 65,
     "metadata": {},
     "output_type": "execute_result"
    }
   ],
   "source": [
    "len(hs)"
   ]
  },
  {
   "cell_type": "markdown",
   "metadata": {},
   "source": [
    "# Search p-q"
   ]
  },
  {
   "cell_type": "code",
   "execution_count": 66,
   "metadata": {},
   "outputs": [],
   "source": [
    "from decimal import Decimal"
   ]
  },
  {
   "cell_type": "code",
   "execution_count": 67,
   "metadata": {},
   "outputs": [],
   "source": [
    "def roots(a,b,c):\n",
    "    disc = Decimal(b**2 - 4*a*c)\n",
    "    print(disc)\n",
    "    if disc >= 0:\n",
    "        return ((-b + np.sqrt(disc))/(2*a),(-b - np.sqrt(disc))/(2*a))\n",
    "    if disc < 0:\n",
    "        return 'None'\n"
   ]
  },
  {
   "attachments": {
    "image.png": {
     "image/png": "[encoded data removed]"
    }
   },
   "cell_type": "markdown",
   "metadata": {},
   "source": [
    "![image.png](attachment:image.png)"
   ]
  },
  {
   "cell_type": "code",
   "execution_count": 68,
   "metadata": {},
   "outputs": [],
   "source": [
    "from decimal import *"
   ]
  },
  {
   "cell_type": "code",
   "execution_count": 72,
   "metadata": {},
   "outputs": [
    {
     "name": "stdout",
     "output_type": "stream",
     "text": [
      "\n"
     ]
    }
   ],
   "source": [
    "from gmpy2 import mpq,mpz"
   ]
  },
  {
   "cell_type": "code",
   "execution_count": 74,
   "metadata": {},
   "outputs": [],
   "source": [
    "import gmpy2"
   ]
  },
  {
   "cell_type": "code",
   "execution_count": null,
   "metadata": {},
   "outputs": [
    {
     "data": {
      "application/vnd.jupyter.widget-view+json": {
       "model_id": "1c4ce9a79db54264a85ef2980e52b08c",
       "version_major": 2,
       "version_minor": 0
      },
      "text/plain": [
       "HBox(children=(IntProgress(value=1, bar_style='info', max=1), HTML(value='')))"
      ]
     },
     "metadata": {},
     "output_type": "display_data"
    }
   ],
   "source": [
    "res=[]\n",
    "for k,h in tqdm(zip(ks,hs)):\n",
    "\n",
    "    fiN = mpq(e*h-1)/mpq(k)\n",
    "    n=mpz(N)\n",
    "\n",
    "    a=1\n",
    "    b=-1*(n-fiN+1)\n",
    "    c = n\n",
    "    disc = mpz(np.power(b,2) - 4*a*c)\n",
    "    \n",
    "    \n",
    "    if disc <0:\n",
    "        pass\n",
    "    else:\n",
    "        p=(-b + gmpy2.isqrt(disc))/(2*a)\n",
    "\n",
    "        q=(-b - gmpy2.isqrt(disc))/(2*a)\n",
    "\n",
    "        if n==p*q:\n",
    "            res.append((p,q))\n",
    "            break\n",
    "                "
   ]
  },
  {
   "cell_type": "code",
   "execution_count": 69,
   "metadata": {},
   "outputs": [
    {
     "data": {
      "application/vnd.jupyter.widget-view+json": {
       "model_id": "c49fe8a8f3f5443ba00060e6fa9710c8",
       "version_major": 2,
       "version_minor": 0
      },
      "text/plain": [
       "HBox(children=(IntProgress(value=1, bar_style='info', max=1), HTML(value='')))"
      ]
     },
     "metadata": {},
     "output_type": "display_data"
    },
    {
     "name": "stderr",
     "output_type": "stream",
     "text": [
      "ERROR:root:Internal Python error in the inspect module.\n",
      "Below is the traceback from this internal error.\n",
      "\n"
     ]
    },
    {
     "name": "stdout",
     "output_type": "stream",
     "text": [
      "Traceback (most recent call last):\n",
      "  File \"/Users/i.chumak/opt/anaconda3/lib/python3.7/site-packages/IPython/core/interactiveshell.py\", line 3326, in run_code\n",
      "    exec(code_obj, self.user_global_ns, self.user_ns)\n",
      "  File \"<ipython-input-69-5ffacabc57e2>\", line 6, in <module>\n",
      "    fiN = Decimal(e*h-1)/Decimal(k)\n",
      "KeyboardInterrupt\n",
      "\n",
      "During handling of the above exception, another exception occurred:\n",
      "\n",
      "Traceback (most recent call last):\n",
      "  File \"/Users/i.chumak/opt/anaconda3/lib/python3.7/site-packages/IPython/core/interactiveshell.py\", line 2040, in showtraceback\n",
      "    stb = value._render_traceback_()\n",
      "AttributeError: 'KeyboardInterrupt' object has no attribute '_render_traceback_'\n",
      "\n",
      "During handling of the above exception, another exception occurred:\n",
      "\n",
      "Traceback (most recent call last):\n",
      "  File \"/Users/i.chumak/opt/anaconda3/lib/python3.7/site-packages/IPython/core/ultratb.py\", line 1101, in get_records\n",
      "    return _fixed_getinnerframes(etb, number_of_lines_of_context, tb_offset)\n",
      "  File \"/Users/i.chumak/opt/anaconda3/lib/python3.7/site-packages/IPython/core/ultratb.py\", line 319, in wrapped\n",
      "    return f(*args, **kwargs)\n",
      "  File \"/Users/i.chumak/opt/anaconda3/lib/python3.7/site-packages/IPython/core/ultratb.py\", line 353, in _fixed_getinnerframes\n",
      "    records = fix_frame_records_filenames(inspect.getinnerframes(etb, context))\n",
      "  File \"/Users/i.chumak/opt/anaconda3/lib/python3.7/inspect.py\", line 1502, in getinnerframes\n",
      "    frameinfo = (tb.tb_frame,) + getframeinfo(tb, context)\n",
      "  File \"/Users/i.chumak/opt/anaconda3/lib/python3.7/inspect.py\", line 1460, in getframeinfo\n",
      "    filename = getsourcefile(frame) or getfile(frame)\n",
      "  File \"/Users/i.chumak/opt/anaconda3/lib/python3.7/inspect.py\", line 696, in getsourcefile\n",
      "    if getattr(getmodule(object, filename), '__loader__', None) is not None:\n",
      "  File \"/Users/i.chumak/opt/anaconda3/lib/python3.7/inspect.py\", line 733, in getmodule\n",
      "    if ismodule(module) and hasattr(module, '__file__'):\n",
      "KeyboardInterrupt\n"
     ]
    },
    {
     "ename": "KeyboardInterrupt",
     "evalue": "",
     "output_type": "error",
     "traceback": [
      "\u001b[0;31m---------------------------------------------------------------------------\u001b[0m"
     ]
    }
   ],
   "source": [
    "with localcontext() as ctx:\n",
    "    ctx.prec = 50  # desired precision\n",
    "    res=[]\n",
    "    for k,h in tqdm(zip(ks,hs)):\n",
    "\n",
    "        fiN = Decimal(e*h-1)/Decimal(k)\n",
    "        n=Decimal(N)\n",
    "        \n",
    "        a=1\n",
    "        b=-1*(n-fiN+1)\n",
    "        c = n\n",
    "        disc = np.power(b,2) - 4*a*c\n",
    "        if disc <0:\n",
    "            pass\n",
    "        else:\n",
    "            p=(-b + np.sqrt(disc))/(2*a)\n",
    "            \n",
    "            q=(-b - np.sqrt(disc))/(2*a)\n",
    "            \n",
    "            if n==p*q:\n",
    "                res.append((p,q))\n",
    "                break\n",
    "                \n",
    "            "
   ]
  },
  {
   "cell_type": "code",
   "execution_count": null,
   "metadata": {},
   "outputs": [],
   "source": [
    "# gmpy2"
   ]
  },
  {
   "cell_type": "code",
   "execution_count": 55,
   "metadata": {},
   "outputs": [
    {
     "data": {
      "text/plain": [
       "[]"
      ]
     },
     "execution_count": 55,
     "metadata": {},
     "output_type": "execute_result"
    }
   ],
   "source": [
    "res"
   ]
  },
  {
   "cell_type": "code",
   "execution_count": 53,
   "metadata": {},
   "outputs": [
    {
     "data": {
      "text/plain": [
       "True"
      ]
     },
     "execution_count": 53,
     "metadata": {},
     "output_type": "execute_result"
    }
   ],
   "source": [
    "Decimal(3)*Decimal(5)==Decimal(15)"
   ]
  },
  {
   "cell_type": "code",
   "execution_count": null,
   "metadata": {},
   "outputs": [],
   "source": [
    "# deget_fractions(a):\n",
    "    k0 = 1\n",
    "    k1=append(a[1])\n",
    "    "
   ]
  },
  {
   "cell_type": "code",
   "execution_count": null,
   "metadata": {},
   "outputs": [],
   "source": [
    "def get_k(a):\n",
    "    k=[]\n",
    "    k0 = 1\n",
    "    k1=append(a[1])\n",
    "    for i in tqdm(range(len(a))):\n",
    "#         print('{}/{}\\r'.format(i,len(a)),end='')\n",
    "        k.append(a[i]*k[i-1]+k[i-2])\n",
    "    return k\n",
    "\n",
    "def get_h(a):\n",
    "    h=[]\n",
    "    h.append(a[0])\n",
    "    h.append(a[1]*a[0]+1)\n",
    "    l=len(a)\n",
    "    for i in tqdm(range(l)):\n",
    "#         print('{}/{} \\r'.format(i,l),end='')\n",
    "        h.append(a[i]*h[i-1]+h[i-2])\n",
    "    return h"
   ]
  },
  {
   "cell_type": "code",
   "execution_count": 1,
   "metadata": {},
   "outputs": [
    {
     "ename": "NameError",
     "evalue": "name 'tqdm' is not defined",
     "output_type": "error",
     "traceback": [
      "\u001b[0;31m---------------------------------------------------------------------------\u001b[0m",
      "\u001b[0;31mNameError\u001b[0m                                 Traceback (most recent call last)",
      "\u001b[0;32m<ipython-input-1-d752d7314319>\u001b[0m in \u001b[0;36m<module>\u001b[0;34m\u001b[0m\n\u001b[1;32m      1\u001b[0m \u001b[0mr\u001b[0m\u001b[0;34m=\u001b[0m\u001b[0;34m[\u001b[0m\u001b[0;34m]\u001b[0m\u001b[0;34m\u001b[0m\u001b[0;34m\u001b[0m\u001b[0m\n\u001b[0;32m----> 2\u001b[0;31m \u001b[0;32mfor\u001b[0m \u001b[0mh\u001b[0m\u001b[0;34m,\u001b[0m\u001b[0mk\u001b[0m \u001b[0;32min\u001b[0m \u001b[0mtqdm\u001b[0m\u001b[0;34m(\u001b[0m\u001b[0mzip\u001b[0m\u001b[0;34m(\u001b[0m\u001b[0mhs\u001b[0m\u001b[0;34m[\u001b[0m\u001b[0mint\u001b[0m\u001b[0;34m(\u001b[0m\u001b[0mlen\u001b[0m\u001b[0;34m(\u001b[0m\u001b[0mhs\u001b[0m\u001b[0;34m)\u001b[0m\u001b[0;34m/\u001b[0m\u001b[0;36m2\u001b[0m\u001b[0;34m)\u001b[0m\u001b[0;34m:\u001b[0m\u001b[0;34m]\u001b[0m\u001b[0;34m,\u001b[0m\u001b[0mks\u001b[0m\u001b[0;34m[\u001b[0m\u001b[0mint\u001b[0m\u001b[0;34m(\u001b[0m\u001b[0mlen\u001b[0m\u001b[0;34m(\u001b[0m\u001b[0mhs\u001b[0m\u001b[0;34m)\u001b[0m\u001b[0;34m/\u001b[0m\u001b[0;36m2\u001b[0m\u001b[0;34m)\u001b[0m\u001b[0;34m:\u001b[0m\u001b[0;34m]\u001b[0m\u001b[0;34m)\u001b[0m\u001b[0;34m)\u001b[0m\u001b[0;34m:\u001b[0m\u001b[0;34m\u001b[0m\u001b[0;34m\u001b[0m\u001b[0m\n\u001b[0m\u001b[1;32m      3\u001b[0m     \u001b[0;32mif\u001b[0m \u001b[0mmath\u001b[0m\u001b[0;34m.\u001b[0m\u001b[0mgcd\u001b[0m\u001b[0;34m(\u001b[0m\u001b[0mk\u001b[0m\u001b[0;34m,\u001b[0m\u001b[0mh\u001b[0m\u001b[0;34m)\u001b[0m\u001b[0;34m==\u001b[0m\u001b[0;36m1\u001b[0m\u001b[0;34m:\u001b[0m\u001b[0;34m\u001b[0m\u001b[0;34m\u001b[0m\u001b[0m\n\u001b[1;32m      4\u001b[0m         \u001b[0mr\u001b[0m\u001b[0;34m.\u001b[0m\u001b[0mappend\u001b[0m\u001b[0;34m(\u001b[0m\u001b[0mh\u001b[0m\u001b[0;34m)\u001b[0m\u001b[0;34m\u001b[0m\u001b[0;34m\u001b[0m\u001b[0m\n\u001b[1;32m      5\u001b[0m \u001b[0;34m\u001b[0m\u001b[0m\n",
      "\u001b[0;31mNameError\u001b[0m: name 'tqdm' is not defined"
     ]
    }
   ],
   "source": [
    "r=[]\n",
    "for h,k in tqdm(zip(hs[int(len(hs)/2):],ks[int(len(hs)/2):])):\n",
    "    if math.gcd(k,h)==1:\n",
    "        r.append(h)\n",
    "        \n",
    "        \n",
    "    "
   ]
  },
  {
   "cell_type": "code",
   "execution_count": 36,
   "metadata": {},
   "outputs": [
    {
     "data": {
      "application/vnd.jupyter.widget-view+json": {
       "model_id": "0648a9818bf1417d97a734e824d0d884",
       "version_major": 2,
       "version_minor": 0
      },
      "text/plain": [
       "HBox(children=(IntProgress(value=0, max=19249), HTML(value='')))"
      ]
     },
     "metadata": {},
     "output_type": "display_data"
    },
    {
     "name": "stdout",
     "output_type": "stream",
     "text": [
      "\n"
     ]
    }
   ],
   "source": [
    "a=None\n",
    "for h in tqdm(r):\n",
    "    \n",
    "    if (e*h)%N==1:\n",
    "        print(h)\n",
    "        a=h\n",
    "#         r.append(h)\n",
    "        break\n",
    "    "
   ]
  },
  {
   "cell_type": "code",
   "execution_count": 37,
   "metadata": {},
   "outputs": [],
   "source": [
    "a"
   ]
  },
  {
   "cell_type": "code",
   "execution_count": 24,
   "metadata": {},
   "outputs": [
    {
     "data": {
      "text/plain": [
       "[]"
      ]
     },
     "execution_count": 24,
     "metadata": {},
     "output_type": "execute_result"
    }
   ],
   "source": [
    "r"
   ]
  },
  {
   "cell_type": "code",
   "execution_count": null,
   "metadata": {},
   "outputs": [],
   "source": []
  },
  {
   "cell_type": "code",
   "execution_count": null,
   "metadata": {},
   "outputs": [],
   "source": []
  },
  {
   "cell_type": "code",
   "execution_count": null,
   "metadata": {},
   "outputs": [],
   "source": []
  },
  {
   "cell_type": "code",
   "execution_count": null,
   "metadata": {},
   "outputs": [],
   "source": []
  },
  {
   "cell_type": "code",
   "execution_count": null,
   "metadata": {},
   "outputs": [],
   "source": []
  }
 ],
 "metadata": {
  "kernelspec": {
   "display_name": "Python 3",
   "language": "python",
   "name": "python3"
  },
  "language_info": {
   "codemirror_mode": {
    "name": "ipython",
    "version": 3
   },
   "file_extension": ".py",
   "mimetype": "text/x-python",
   "name": "python",
   "nbconvert_exporter": "python",
   "pygments_lexer": "ipython3",
   "version": "3.7.5"
  }
 },
 "nbformat": 4,
 "nbformat_minor": 2
}
