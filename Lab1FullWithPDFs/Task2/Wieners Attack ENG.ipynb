{
 "cells": [
  {
   "cell_type": "markdown",
   "metadata": {},
   "source": [
    "# Wiener's attack\n",
    "RSA decryption (or signature) creation tends to be relatively energy and time expensive, since we can't just pick a nice private exponent $d$ with low Hamming weight (it would be easily guessable). So one may experience an urge to peek such public exponent $e$, that $d$ bitlength is much less than the modulus $N$, say if $N$ is 2048, than $d$ is around 500 bits. Intuition says, that since $d$ is hard to guess (500 bits), you should feel safe with this decision. Unfortunately, this is and extremely dangerous mistake to make. \n",
    "## Theorem (M. Wiener)\n",
    "Let $N = pq$ with $q<p<2q$. Let $d<\\frac{1}{3}N^{\\frac{1}{4}}$. Given $(N,e)$ with $ed=1\\space mod\\space \\varphi(N)$, Marvin can efficiently recover $d$.\n",
    "\n",
    "### Proof (taken from [Twenty Years of Attacks on the RSA Cryptosystem](http://crypto.stanford.edu/~dabo/papers/RSA-survey.pdf) by Dan Boneh)\n",
    "\n",
    "The proof is based on approximations using continued fractions. Since $ed=1\\space mod\\space \\varphi(N)$ there exists a $k$ such that $ed-k\\varphi(N)=1$. Therefore,\n",
    "$$\\lvert\\frac{e}{\\varphi(N)}-\\frac{k}{d}\\rvert=\\frac{1}{d\\varphi(N)}$$\n",
    "Hence, $\\frac{k}{d}$ is an approximation of $\\frac{e}{\\varphi(N)}$. Although Marvin does not know $\\varphi(N)$, he may use $N$ to approximate it. Indeed, since $\\varphi(N)=N-p-q+1$ and $p+q-1<3\\sqrt{N}$, we have $\\lvert N-\\varphi(N)\\rvert<3\\sqrt{N}$\n",
    "\n",
    "Using $N$ in place of $\\varphi(N)$ we obtain:\n",
    "$$\\lvert\\frac{e}{N}-\\frac{k}{d}\\rvert=\\lvert\\frac{ed-k\\varphi(N)-kN+k\\varphi(N)}{Nd}\\rvert=\\lvert\\frac{1-k(N-\\varphi(N))}{Nd}\\rvert\\le\\lvert\\frac{3k\\sqrt(N)}{Nd}\\rvert=\\frac{3k}{d\\sqrt{N}}$$\n",
    "Now, $k\\varphi(N)=ed-1 \\lt ed$. Since $e \\lt N$, we see that $k \\lt d \\lt \\frac{1}{3}N^{\\frac{1}{4}}$. Hence we obtain:\n",
    "$$\\lvert\\frac{e}{N}-\\frac{k}{d}\\rvert\\le \\frac{1}{dN^{\\frac{1}{4}}}\\lt\\frac{1}{2d^2}$$\n",
    "\n",
    "This is a classic approximation relation. The numbber of fractions $\\frac{k}{d}$ with $d\\lt N$ approximating $\\frac{e}{N}$ so closely is bounded by $log_{2}N$ In fact, all such fractions are obtained as convergents of the continued fraction expansion of $\\frac{e}{N}$ All one has to do is compute the $log\\space N$ convergents of the continued fraction for $\\frac{e}{N}$. One of these will equal $\\frac{k}{d}$. Since $ed-k\\varphi(N)=1$, we have $gcd(k,d)=1$ and hence $\\frac{k}{d}$ is a reduced fraction. This is a linear-time algorithm for recovering the secret key $d$. **Q.E.D**"
   ]
  },
  {
   "cell_type": "markdown",
   "metadata": {},
   "source": [
    "## Continued fractions and convergents\n",
    "*Continued fraction* is an expression obtained through an iterative process of representing a number as a sum of its integer part and the reciprocal of another number, then writing this other number as the sum of its integer part and another reciprocal and so on.\n",
    "Example:\n",
    "For real $x>0$ and integers $a_{i}>0$, for $i=1,...,n$ \n",
    "$$x=a_{0}+\\frac{1}{a_{1}+\\frac{1}{a_{2}+\\frac{1}{\\ddots+\\frac{1}{a_{n}}}}}$$\n",
    "is a continued fraction. The ingegers $a_0, a_1$, etc., are called the *coefficients* or *terms* of the continued fraction. There are many ways to abbreviate continued fractions. We'll be using this one:\n",
    "$$x=[a_0;a_1,a_2,...]$$\n",
    "A continued fraction can be approximated by its initial segments. Such approximations are called *convergents*.\n",
    "Obviously, for a rational $x$ the number of such convergents is finite.\n",
    "The first four convergents of a continued fraction are:\n",
    "$$\\frac{a_0}{1},\\frac{a_1a_0+1}{a_1},\\frac{a_2(a_1a_0+1)+a_0}{a_2a_1+1},\\frac{a_3(a_2(a_1a_0+1)+a_0)+(a_1a_0+1)}{a_3(a_2a_1+1)+a_1}$$\n",
    "If there are successive convergents, they can be calculated recusively. $h_i$ are numerators and $k_i$ are denominators. Then the series can be calculated this way:\n",
    "$$\\frac{h_i}{k_i}=\\frac{a_i h_{i-1}+h_{i-2}}{a_i k_{i-1}+k_{i-2}}$$\n",
    "Now implement the algorithm for finding coefficients and convergents for any given rational number.\n",
    "\n",
    "*Hint: you can use Euclidian algorithm for finding coefficients*"
   ]
  },
  {
   "cell_type": "code",
   "execution_count": null,
   "metadata": {},
   "outputs": [],
   "source": [
    "\n"
   ]
  },
  {
   "cell_type": "markdown",
   "metadata": {},
   "source": [
    "Now that you've implemented the algorithm to find convergents, let's see how to use them to find $p$ and $q$. Since $\\frac{k}{d}$ is a reduced fraction, the denominator of one of the convergents is the $d$ itself. This is enough to decrypt, but we can even factor the $N$. We also know $k$, and $\\varphi(N)=\\frac{ed-1}{k}$, so we can calculate $\\varphi(N)$.\n",
    "$$ N-\\varphi(N)= pq-(p-1)(q-1)=pq-pq+p+q-1=p+q-1$$\n",
    "$$q=N-\\varphi(N)-p+1$$\n",
    "$$N=pq=p(N-\\varphi(N)-p+1)=pN-p\\varphi(N)-p^2+p$$\n",
    "$$p^2-p(N-\\varphi(N)+1)+N=0$$\n",
    "We have a nice quadratic equation, the roots of which are $p$ and $q$"
   ]
  },
  {
   "cell_type": "markdown",
   "metadata": {},
   "source": [
    "Now let's try to apply this knowledge to a vulnerable server. The concept is the same as in the blinding task. You need to provide a valid signature for 'flag' to get the flag.\n",
    "Steps:\n",
    "1. Find $d$ through the cunning use of continued fractions\n",
    "2. Find $p$ and $q$\n",
    "3. Sign message and send to server\n",
    "4. Profit"
   ]
  },
  {
   "cell_type": "code",
   "execution_count": 1,
   "metadata": {},
   "outputs": [],
   "source": [
    "import socket\n",
    "import re\n",
    "from Crypto.Util.number import inverse,long_to_bytes,bytes_to_long\n",
    "class VulnServerClient:\n",
    "    def __init__(self,show=True):\n",
    "        \"\"\"Initialization, connecting to server\"\"\"\n",
    "        self.s=socket.socket(socket.AF_INET,socket.SOCK_STREAM)\n",
    "        self.s.connect(('cryptotraining.zone',1338))\n",
    "        if show:\n",
    "            print (self.recv_until().decode())\n",
    "    def recv_until(self,symb=b'\\n>'):\n",
    "        \"\"\"Receive messages from server, by default till new prompt\"\"\"\n",
    "        data=b''\n",
    "        while True:\n",
    "            \n",
    "            data+=self.s.recv(1)\n",
    "            if data[-len(symb):]==symb:\n",
    "                break\n",
    "        return data\n",
    "    def get_public_key(self,show=True):\n",
    "        \"\"\"Receive public key from the server\"\"\"\n",
    "        self.s.sendall('public\\n'.encode())\n",
    "        response=self.recv_until().decode()\n",
    "        if show:\n",
    "            print (response)\n",
    "        e=int(re.search('(?<=e: )\\d+',response).group(0))\n",
    "        N=int(re.search('(?<=N: )\\d+',response).group(0))\n",
    "        self.num_len=len(long_to_bytes(N))\n",
    "        self.e,self.N=e,N\n",
    "        return (e,N)\n",
    "        \n",
    "    def checkSignatureNumber(self,c,show=True):\n",
    "        \"\"\"Check if this number is a valid signature for 'flag'\"\"\"\n",
    "        try:\n",
    "            num_len=self.num_len\n",
    "        except KeyError:\n",
    "            print ('You need to get the public key from the server first')\n",
    "            return\n",
    "        signature_bytes=long_to_bytes(c,num_len)\n",
    "        self.checkSignatureBytes(signature_bytes,show)\n",
    "    \n",
    "    def checkSignatureBytes(self,c,show=True):\n",
    "        \"\"\"Check if these bytes are a valid signature for 'flag'\"\"\"\n",
    "        try:\n",
    "            num_len=self.num_len\n",
    "        except KeyError:\n",
    "            print ('You need to get the public key from the server first')\n",
    "            return\n",
    "        if len(c)>num_len:\n",
    "            print (\"The message is too long\")\n",
    "            return\n",
    "        \n",
    "        hex_c=c.hex().encode()\n",
    "        self.s.sendall(b'flag '+hex_c+b'\\n',)\n",
    "        response=self.recv_until(b'\\n').decode()\n",
    "        \n",
    "        if show:\n",
    "            print (response)\n",
    "        \n",
    "        if response.find('Wrong')!=-1:\n",
    "            print('Wrong signature')\n",
    "            x=self.recv_until()\n",
    "            if show:\n",
    "                print (x)\n",
    "            return\n",
    "        flag=re.search('CRYPTOTRAINING\\{.*\\}',response).group(0)\n",
    "        print ('FLAG: ',flag)\n",
    "    def setPrivateKey(self,p,q):\n",
    "        \"\"\"Set private key\"\"\"\n",
    "        self.p=p\n",
    "        self.q=q\n",
    "        self.d=inverse(self.e,(p-1)*(q-1))\n",
    "    \n",
    "    def signMessageBytes(self,m):\n",
    "        \"\"\"Sign message after finding private key\"\"\"\n",
    "        try:\n",
    "            num_len=self.num_len\n",
    "        except KeyError:\n",
    "            print ('You need to get the public key from the server first')\n",
    "            return\n",
    "        if len(m)>num_len:\n",
    "            print('m too long')\n",
    "        if len(m)<num_len:\n",
    "            m=bytes([0x0]*(num_len-len(m))) + m\n",
    "        signature_bytes=long_to_bytes(pow(bytes_to_long(m),self.d,self.N))\n",
    "        return signature_bytes\n",
    "    \n",
    "    def __del__(self):\n",
    "        self.s.close()"
   ]
  },
  {
   "cell_type": "code",
   "execution_count": 2,
   "metadata": {},
   "outputs": [
    {
     "name": "stdout",
     "output_type": "stream",
     "text": [
      "Welcome to the Wiener attack task\n",
      " Private exponent d is just 500 bits, so you should be able to find it\n",
      "Available commands:\n",
      "help - print this help\n",
      "public - show public key\n",
      "flag <hex(signature(b'flag'))> - print flag \n",
      "quit - quit\n",
      ">\n",
      "e: 8839551043978443608398025896780793202003010536758606314296322410796293227009006377928704733115527530568335157503545935668140280687677644384828827774341791741675311017053491920564415641618138819406621038589908795280642494559623024398109068612298406882999181546747809372362753924367242833372319005809150642099445908295931797686993337044287442366446944633023395286044870591661230521198944254856540088737753911491026348538755316415798095543587870314159684746164449762012523139033017984305566198737145039701834266332544305477425758867699770558649969398014284113283810963997678267189504521186597841548911958269916619229615\n",
      "N: 21256322430089598854338700689200271903675413740952314650877563305595200298214795840279408610649497535155919886199494094094113946327038855028353113112375895879962300398509983041529946508972985551107580008642754638478483800698496181236032754477863099560877646304578656434264999846507664057649629041155688091673087737339579837961500153140350438182833535429065058704101283648761716829403428808106034001141877596343293223936738847038329364163550282619308760978230688807431401649344355691016571996821077683391062587473841296561195823674862584848815178470969038968457357643287439205370389631026298698109507847364723418309709\n",
      ">\n"
     ]
    }
   ],
   "source": [
    "vs=VulnServerClient()\n",
    "(e,N)=vs.get_public_key()\n"
   ]
  },
  {
   "cell_type": "code",
   "execution_count": null,
   "metadata": {},
   "outputs": [],
   "source": []
  },
  {
   "cell_type": "code",
   "execution_count": null,
   "metadata": {},
   "outputs": [],
   "source": []
  }
 ],
 "metadata": {
  "kernelspec": {
   "display_name": "Python 3",
   "language": "python",
   "name": "python3"
  },
  "language_info": {
   "codemirror_mode": {
    "name": "ipython",
    "version": 3
   },
   "file_extension": ".py",
   "mimetype": "text/x-python",
   "name": "python",
   "nbconvert_exporter": "python",
   "pygments_lexer": "ipython3",
   "version": "3.6.9"
  }
 },
 "nbformat": 4,
 "nbformat_minor": 2
}
