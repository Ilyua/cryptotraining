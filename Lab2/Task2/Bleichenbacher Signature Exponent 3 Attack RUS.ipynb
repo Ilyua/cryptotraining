{
 "cells": [
  {
   "cell_type": "markdown",
   "metadata": {},
   "source": [
    "# Атака Блейхенбахера на подписи RSA с открытой экспонентой 3\n",
    "Открытая экспонента $3$ часто используется из-за того, что вычисления с ней намного проще (меньше энергии и времени). Очевидно, что она становится проблемой, если сообщение, которое вы пытаетесь зашифровать не переполняет модуль при возведении в степень. Чтобы предотвратить эту проблему были созданы несколько схем паддинга. Самая занимательная с точки зрения атак - это PKCS#1 v1.5, о которой мы узнаем больше в следующих тасках. Она использует похожий формат для подписей и шифрования, но сегодня нам интересны только подписи. Правильная подпись по PKCS имеет следующий формат:\n",
    "```\n",
    "00 | 01 | FF | .. | FF | 00 | HASH\n",
    "```\n",
    "Если $N$ имеет длину $k$ в байтах (обычно 128,256 или 384), то количество байтов FF должно быть равно $(k-3-len(HASH))$.\n",
    "\n",
    "К сожалению, некоторые решения проверяли лишь последовательность\n",
    "```\n",
    "00 | 01 | FF | .. | FF | 00\n",
    "``` \n",
    "с любым количеством байтов FF и потом брали необходимое для хеша количество байтов после паддинга. Проблема заключается в том, что настоящий паддинг уникален для каждого хеша, а при изменяющемся количестве байтов FF, появляется много возможных комбинаций, так как после хеша могут идти любые байты. При $e=3$ это становится реальной проблемой, так как мы можем подделать подпись.\n",
    "Можно аппроксимировать кубический корень из $M=$\n",
    "```\n",
    "00 | 01 | FF | 00 | HASH | 00 | .. | 00\n",
    "```\n",
    "$S'\\approx M^{1/3}$ и найти подпись $S=S'+1$. Поскольку это изменить лишь байты после хеша, подделка пройдет проверку.\n",
    "\n",
    "Подделайте подпись сообщения b'flag' и отправьте на сервер. Вместо хеша от b'flag' сервер просто проверяет наличие байтов 'flag' сразу после паддинга. Удачи!"
   ]
  },
  {
   "cell_type": "code",
   "execution_count": 1,
   "metadata": {},
   "outputs": [],
   "source": [
    "import socket\n",
    "import re\n",
    "from Crypto.Util.number import bytes_to_long,long_to_bytes,inverse,GCD\n",
    "class VulnServerClient:\n",
    "    def __init__(self,show=True):\n",
    "        \"\"\"Инициализация, подключаемся к серверу\"\"\"\n",
    "        self.s=socket.socket(socket.AF_INET,socket.SOCK_STREAM)\n",
    "        self.s.connect(('cryptotraining.zone',1341))\n",
    "        if show:\n",
    "            print (self.recv_until().decode())\n",
    "    def recv_until(self,symb=b'\\n>'):\n",
    "        \"\"\"Получаем сообщения с сервера, по дефолту до знака приглашения\"\"\"\n",
    "        data=b''\n",
    "        while True:\n",
    "            \n",
    "            data+=self.s.recv(1)\n",
    "            if data[-len(symb):]==symb:\n",
    "                break\n",
    "        return data\n",
    "    def get_public_key(self,show=True):\n",
    "        \"\"\"Получаем открытый ключ с сервера\"\"\"\n",
    "        self.s.sendall('public\\n'.encode())\n",
    "        response=self.recv_until().decode()\n",
    "        if show:\n",
    "            print (response)\n",
    "        e=int(re.search('(?<=e: )\\d+',response).group(0))\n",
    "        N=int(re.search('(?<=N: )\\d+',response).group(0))\n",
    "        self.num_len=len(long_to_bytes(N))\n",
    "        return (e,N)\n",
    "            \n",
    "    def checkSignature(self,c,show=True):\n",
    "        \"\"\"Проверить, является ли это число правильной подписью\"\"\"\n",
    "        try:\n",
    "            num_len=self.num_len\n",
    "        except KeyError:\n",
    "            print ('You need to get the public key from the server first')\n",
    "            return\n",
    "        signature_bytes=long_to_bytes(c,num_len)\n",
    "        self.checkSignatureBytes(signature_bytes,show)\n",
    "    \n",
    "    def checkSignatureBytes(self,c,show=True):\n",
    "        \"\"\"Проверить, является ли эта последовательность байтов правильной подписью\"\"\"\n",
    "        try:\n",
    "            num_len=self.num_len\n",
    "        except KeyError:\n",
    "            print ('You need to get the public key from the server first')\n",
    "            return\n",
    "        if len(c)>num_len:\n",
    "            print (\"The message is too long\")\n",
    "            return\n",
    "        \n",
    "        hex_c=c.hex().encode()\n",
    "        self.s.sendall(b'flag '+hex_c+b'\\n',)\n",
    "        response=self.recv_until(b'\\n').decode()\n",
    "        \n",
    "        if show:\n",
    "            print (response)\n",
    "        \n",
    "        if response.find('Wrong')!=-1:\n",
    "            print('Wrong signature')\n",
    "            x=self.recv_until()\n",
    "            if show:\n",
    "                print (x)\n",
    "            return\n",
    "        flag=re.search('CRYPTOTRAINING\\{.*\\}',response).group(0)\n",
    "        print ('FLAG: ',flag)\n",
    "        \n",
    "    def __del__(self):\n",
    "        self.s.close()\n"
   ]
  },
  {
   "cell_type": "code",
   "execution_count": 2,
   "metadata": {},
   "outputs": [
    {
     "name": "stdout",
     "output_type": "stream",
     "text": [
      "Welcome to Bleichenbacher's signature exponent 3 attack task\n",
      "Available commands:\n",
      "help - print this help\n",
      "public - show public key\n",
      "flag <hex(signature(b'flag'))> - print flag \n",
      "quit - quit\n",
      ">\n",
      "e: 3\n",
      "N: 23451721638450735837192936512705285084148016986437726204139579305692323143550819643457876722407945724900036975175553947474624476543532979129965108694659826813679082084533634964848066390472260420456930636110185046577632027929983762829180699297454189397229979451189326493503464132097157965882767371766584791340102547650807127441615897313168600069296610173329252319841357703115792282657779920335977298037814050590828657396573367322681353379045364808080549961191425415961937864382495328668937920235775400914630813078535281943770942554463414529423069019686396596201141371706207268929145987762222661753151969189517471009277\n",
      ">\n"
     ]
    }
   ],
   "source": [
    "vs=VulnServerClient()\n",
    "(e,N)=vs.get_public_key()"
   ]
  },
  {
   "cell_type": "code",
   "execution_count": null,
   "metadata": {},
   "outputs": [],
   "source": []
  }
 ],
 "metadata": {
  "kernelspec": {
   "display_name": "Python 3",
   "language": "python",
   "name": "python3"
  },
  "language_info": {
   "codemirror_mode": {
    "name": "ipython",
    "version": 3
   },
   "file_extension": ".py",
   "mimetype": "text/x-python",
   "name": "python",
   "nbconvert_exporter": "python",
   "pygments_lexer": "ipython3",
   "version": "3.6.9"
  }
 },
 "nbformat": 4,
 "nbformat_minor": 4
}
