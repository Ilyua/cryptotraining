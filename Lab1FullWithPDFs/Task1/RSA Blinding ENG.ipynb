{
 "cells": [
  {
   "cell_type": "markdown",
   "metadata": {},
   "source": [
    "# RSA Blinding Attack\n",
    "## Intro\n",
    "RSA (named after its creators Ronald Linn Rivest, Adi Shamir and Leonard Adleman) is an example of asymmetric cryptosystem, that can be used for secure communications and signing data. The basic principle behind it is as follows.\n",
    "\n",
    "RSA uses the multiplicative group modulo $N=pq$, where $p$ and $q$ are prime numbers. The order of the multiplicative group (effectively the number of elements in this group) can be calculated with Euler's totient function: $\\varphi(N)=(p-1)(q-1)$. We just cross out the numbers less than $N$ that are multiples of $p$ or $q$. All the other numbers are in the multiplicative group, since they are coprime with $N$. As we know, if we exponentiate any member of a group to the order of the group, the result is group's identity: $a^{\\varphi(N)}=1, a \\in Z^{*}_{N}$. So two numbers, $e$ (public exponent) and $d$ (private exponent) such that $ed=1 mod N$ are chosen. The pair of numbers $(e,N)$ becomes the public key and $(d,N)$ becomes the private key. Calculating $d$ from public information is considered a hard problem (unless certain mistakes were made). You would to have to factor $N$ to get $p$ and $q$.\n",
    "\n",
    "Given message $M, M < N$, public key $(e,N)$ and private key $(d,N)$ the encryption and decryption process is as follows:\n",
    "\n",
    "Encryption\n",
    "$C=M^{e}\\space mod\\space N$\n",
    "\n",
    "Decryption\n",
    "\n",
    "$M=C^{d} \\space mod\\space N$\n",
    "\n",
    "It's quite easy to check soundness:\n",
    "\n",
    "$C^{d}\\space mod\\space N=M^{ed}\\space mod\\space N= M^{ed\\space mod\\space \\varphi(N)}\\space mod\\space N=M^{1}\\space mod\\space N= M\\space mod\\space N$\n",
    "\n",
    "## Preparation\n",
    "Let's try to work with RSA for a bit. If you haven't yet, install Pycryptodome. On Linux and Windows this should work (You obviously have to install python 3 first and pip, but I hope you know how to do that):\n"
   ]
  },
  {
   "cell_type": "code",
   "execution_count": 1,
   "metadata": {},
   "outputs": [
    {
     "name": "stdout",
     "output_type": "stream",
     "text": [
      "Collecting pycryptodome\n",
      "  Using cached https://files.pythonhosted.org/packages/54/e4/72132c31a4cedc58848615502c06cedcce1e1ff703b4c506a7171f005a75/pycryptodome-3.9.6-cp36-cp36m-manylinux1_x86_64.whl\n",
      "Installing collected packages: pycryptodome\n",
      "Successfully installed pycryptodome-3.9.6\n"
     ]
    }
   ],
   "source": [
    "!python3 -m pip install pycryptodome"
   ]
  },
  {
   "cell_type": "markdown",
   "metadata": {},
   "source": [
    "You'll have to restart jupyter kernel after installation (circly arrow near \"Run\"). If you encounter problems, you can follow this installation guide: [Pycryptodome installation](https://pycryptodome.readthedocs.io/en/latest/src/installation.html)."
   ]
  },
  {
   "cell_type": "markdown",
   "metadata": {},
   "source": [
    "## Primitive RSA\n",
    "So let's try to implement RSA. Let's use the public exponent $e=65537$. This constant is usually chosen nowadays, because it wraps the modulus even  if $M=2$ and it has a nice binary representation $65537_{10}=10000000000000001_{2}$ which allows for efficient exponentiation using the \"Square and multiply\" method.\n",
    "\n",
    "First, generate the $p$ and $q$. getStrongPrime function lets you choose the number of bits in your prime and checks that $gcd(p-1,e)=1$"
   ]
  },
  {
   "cell_type": "code",
   "execution_count": 2,
   "metadata": {},
   "outputs": [],
   "source": [
    "try:\n",
    "    from Crypto.Util.number import getStrongPrime, inverse,bytes_to_long, long_to_bytes\n",
    "except ImportError:\n",
    "    print (\"Pycryptodome not installed\")"
   ]
  },
  {
   "cell_type": "code",
   "execution_count": 3,
   "metadata": {},
   "outputs": [],
   "source": [
    "e=65537\n",
    "p=getStrongPrime(1024,e=e)\n",
    "q=getStrongPrime(1024,e=e)"
   ]
  },
  {
   "cell_type": "code",
   "execution_count": 4,
   "metadata": {},
   "outputs": [],
   "source": [
    "N=p*q\n",
    "phi=(p-1)*(q-1)\n",
    "d=inverse(e,phi)\n",
    "public_key=(e,N)\n",
    "private_key=(d,N)"
   ]
  },
  {
   "cell_type": "markdown",
   "metadata": {},
   "source": [
    "Ok, we've generated the keys, let's encrypt a message, decrypt the ciphertext and check if it is the same message"
   ]
  },
  {
   "cell_type": "code",
   "execution_count": 5,
   "metadata": {},
   "outputs": [
    {
     "name": "stdout",
     "output_type": "stream",
     "text": [
      "C: 0x57d826694f86a3120e40f5a86bfbd451a91e40886345fcbeb360582f9334bfd5d0734a0f2d11068da5aa851fb07d265ac3cddf47092a9d6e8049801bf721db5a8ae2a78dbae899212a14c22e9a7128f54158b143f22410997184c75b1945a30b940d921e43e05a401bffb3c356ed2134d503c4a112b9b3782e3c85a9b5985d7b836a6b9fdffe941bfaac5555583716e8667c9ba8076cc9ad1063428abde01e2639f07afd55bff37c58d01dc4300563a8d01bc253689024b5d124639723f67bc3a69d867cb8c89a4f3f373dac4d054931e9c452f5fcbba384d78a219d515fa8a0803f3095531b5e865e0ad8430296e6e1b3ee60a193376624db9561395abbe5f9\n",
      "M1: b'Hello, RSA!'\n"
     ]
    }
   ],
   "source": [
    "M=bytes_to_long(b'Hello, RSA!')\n",
    "C=pow(M,e,N)\n",
    "print ('C:',hex(C))\n",
    "M1=pow(C,d,N)\n",
    "assert M1==M\n",
    "print ('M1:',long_to_bytes(M1))"
   ]
  },
  {
   "cell_type": "markdown",
   "metadata": {},
   "source": [
    "Creating a signature is inverse operation to encryption. \n",
    "$$Sign(M)\\equiv Dec(M),\\space Check(S) \\equiv Enc(S)$$\n",
    "This way anyone with a public key can check the validity of the signature, but only the entity holding the private key can produce signatures.\n",
    "Congratulations. You know how to encrypt and create signatures with RSA. Now let's explore one of RSA's interesting properties.\n",
    "## RSA Blinding\n",
    "RSA is homomorphic encryption under multiplication.\n",
    "Homomorphism is a structure-preserving map between two algebraic structures of the same type. (If you didn't get anything from that, that's ok. I also didn't the first time I heard that). What this means is that if you have to elements $(x,y)$ and you put them through a homomorphic function, they will relate the same to each other in the new group/ring/field, etc. as they were in the original one:\n",
    "$$\\varphi(x\\cdot y)=\\varphi(x)\\times\\varphi(y)$$\n",
    "This translates to $$Enc(M_1 \\cdot M_2)=Enc(M_1)\\times Enc(M_2)=$$\n",
    "The same is true for decryptions:\n",
    "$$Dec(C_1 \\times C_2)=Dec(C_1) \\cdot Dec(C_2)$$\n",
    "Let's try this in python"
   ]
  },
  {
   "cell_type": "code",
   "execution_count": 6,
   "metadata": {},
   "outputs": [
    {
     "name": "stdout",
     "output_type": "stream",
     "text": [
      "c1: 11014358485183199846714767764732588544363560216734986997751759838980896247036812118141673755964065645338643639675248246068562288738065082417407730360184076214990588791975181892296042721563827805731740951124609706579901318653758456775330473710491485431328583844391540358718461324637241675512940099643039749020599646650211762103144205410613508156429764270484909050485216692928577495624223260765599304190305618964836579678856974569227509451924698386106294477277334433622387815439366008962921414541506876469089551205189960717533351392543115659951741153005390374003996592787607476215857261150299842299244927932785444540546\n",
      "c2: 22269917331550587681062869725336176848700267356150185557634432741963047730503809242923347246719638703856668622377030750771723279059943151242898428084220650713087458838740534416590669893631187830837473370479394255480342902372400549804753544166839643565700375554705922652925467408548277577091673397336101368127019175007277668743496322415140615497487853756415578742443831527343497997377644408976354605124438986302484017321912553595826000456806265420922733961150687225596280477646217159439183062190827893143308626149354472599100412518848773261609786026874618089497180067645889625732747409915387100164530135060800138340313\n",
      "c3: 22504053937458892404527224050714969428569448537323237470833823473144022458544344556207521869104783295633660944456502101463815947993350430308616085701383812515417598953159369335672749728389616561433347505017437523435737418705232852038482798491564523441447824142668839200094559354399812106542480537674393502066782394110241802386949238388571371607041040551279499933746305239402429060556217536316265505640740657190059511119765467014076839089621283861624104797725329529906782052076516504582268603295169323866763528272219173495470603192177979970513050650016713128074934226820960534119564475133998551385909075487395766058762\n",
      "m3: 6, m3_dec: 6\n"
     ]
    }
   ],
   "source": [
    "class BasicRSA:\n",
    "    def __init__(self, e,p,q):\n",
    "        self.e=e\n",
    "        self.p=p\n",
    "        self.q=q\n",
    "        self.N=p*q\n",
    "        self.d=inverse(e,(p-1)*(q-1))\n",
    "    \n",
    "    def encryptNumber(self, m):\n",
    "        return pow(m,self.e,self.N)\n",
    "    \n",
    "    def decryptNumber(self, c):\n",
    "        return pow(c,self.d,self.N)\n",
    "\n",
    "brsa=BasicRSA(e,p,q) #we created these parameters earlier\n",
    "m1=2\n",
    "m2=3\n",
    "m3=m1*m2\n",
    "c1=brsa.encryptNumber(m1)\n",
    "c2=brsa.encryptNumber(m2)\n",
    "print ('c1:',c1)\n",
    "print ('c2:',c2)\n",
    "c3=(c1*c2)%brsa.N\n",
    "print('c3:',c3)\n",
    "m3_dec=brsa.decryptNumber(c3)\n",
    "print ('m3: %d, m3_dec: %d'%(m3,m3_dec))\n",
    "assert m3_dec==m3"
   ]
  },
  {
   "cell_type": "markdown",
   "metadata": {},
   "source": [
    "## Attacking the server\n",
    "Now try to apply this knowledge to a vulnerable server. You can connect to it with ```nc cryptotraining.zone 1337``` or by using python sockets."
   ]
  },
  {
   "cell_type": "code",
   "execution_count": 7,
   "metadata": {},
   "outputs": [],
   "source": [
    "import socket\n",
    "import re\n",
    "class VulnServerClient:\n",
    "    def __init__(self,show=True):\n",
    "        \"\"\"Initialization, connecting to server\"\"\"\n",
    "        self.s=socket.socket(socket.AF_INET,socket.SOCK_STREAM)\n",
    "        self.s.connect(('cryptotraining.zone',1337))\n",
    "        if show:\n",
    "            print (self.recv_until().decode())\n",
    "    def recv_until(self,symb=b'\\n>'):\n",
    "        \"\"\"Receive messages from server, by default till new prompt\"\"\"\n",
    "        data=b''\n",
    "        while True:\n",
    "            \n",
    "            data+=self.s.recv(1)\n",
    "            if data[-len(symb):]==symb:\n",
    "                break\n",
    "        return data\n",
    "    def get_public_key(self,show=True):\n",
    "        \"\"\"Receive public key from the server\"\"\"\n",
    "        self.s.sendall('public\\n'.encode())\n",
    "        response=self.recv_until().decode()\n",
    "        if show:\n",
    "            print (response)\n",
    "        e=int(re.search('(?<=e: )\\d+',response).group(0))\n",
    "        N=int(re.search('(?<=N: )\\d+',response).group(0))\n",
    "        self.num_len=len(long_to_bytes(N))\n",
    "        return (e,N)\n",
    "    \n",
    "    def signBytes(self,m,show=True):\n",
    "        \"\"\"Get a signature for chosen byte message from the server\"\"\"\n",
    "        try:\n",
    "            num_len=self.num_len\n",
    "        except KeyError:\n",
    "            print ('You need to get the public key from the server first')\n",
    "            return\n",
    "        if len(m)>num_len:\n",
    "            print (\"The message is too long\")\n",
    "            return\n",
    "        if len(m)<num_len:\n",
    "            m=bytes((num_len-len(m))*[0x0])+m\n",
    "        hex_m=m.hex().encode()\n",
    "        self.s.sendall(b'sign '+hex_m+b'\\n')\n",
    "        response=self.recv_until().decode()\n",
    "        if show:\n",
    "            print (response)\n",
    "        if response.find('flag')!=-1:\n",
    "            print('You tried to submit \\'flag\\'')\n",
    "            return None\n",
    "        signature_hex=re.search('(?<=Signature: )[0-9a-f]+',response).group(0)\n",
    "        signature_bytes=bytes.fromhex(signature_hex)\n",
    "        return bytes_to_long(signature_bytes)\n",
    "    \n",
    "    \n",
    "    def signNumber(self,m,show=True):\n",
    "        \"\"\"Get a signature for chosen number from the server\"\"\"\n",
    "        try:\n",
    "            num_len=self.num_len\n",
    "        except KeyError:\n",
    "            print ('You need to get the public key from the server first')\n",
    "            return\n",
    "        return self.signBytes(long_to_bytes(m,num_len),show)\n",
    "        \n",
    "    def checkSignatureNumber(self,c,show=True):\n",
    "        \"\"\"Check if this number is a valid signature for 'flag'\"\"\"\n",
    "        try:\n",
    "            num_len=self.num_len\n",
    "        except KeyError:\n",
    "            print ('You need to get the public key from the server first')\n",
    "            return\n",
    "        signature_bytes=long_to_bytes(c,num_len)\n",
    "        self.checkSignatureBytes(signature_bytes,show)\n",
    "    \n",
    "    def checkSignatureBytes(self,c,show=True):\n",
    "        \"\"\"Check if these bytes are a valid signature for 'flag'\"\"\"\n",
    "        try:\n",
    "            num_len=self.num_len\n",
    "        except KeyError:\n",
    "            print ('You need to get the public key from the server first')\n",
    "            return\n",
    "        if len(c)>num_len:\n",
    "            print (\"The message is too long\")\n",
    "            return\n",
    "        \n",
    "        hex_c=c.hex().encode()\n",
    "        self.s.sendall(b'flag '+hex_c+b'\\n',)\n",
    "        response=self.recv_until(b'\\n').decode()\n",
    "        \n",
    "        if show:\n",
    "            print (response)\n",
    "        \n",
    "        if response.find('Wrong')!=-1:\n",
    "            print('Wrong signature')\n",
    "            x=self.recv_until()\n",
    "            if show:\n",
    "                print (x)\n",
    "            return\n",
    "        flag=re.search('CRYPTOTRAINING\\{.*\\}',response).group(0)\n",
    "        print ('FLAG: ',flag)\n",
    "        \n",
    "    def __del__(self):\n",
    "        self.s.close()\n"
   ]
  },
  {
   "cell_type": "code",
   "execution_count": 8,
   "metadata": {},
   "outputs": [
    {
     "name": "stdout",
     "output_type": "stream",
     "text": [
      "Welcome to RSA blinding task\n",
      "Available commands:\n",
      "help - print this help\n",
      "public - show public key\n",
      "sign <hex(data)> - sign data\n",
      "flag <hex(signature(b'flag'))> - print flag \n",
      "quit - quit\n",
      ">\n",
      "e: 65537\n",
      "N: 20159717663186764200842482638329142432479376755681286432561400011207751568770239378735042390550988864636478212097889382541806378632813451522011734778394352464750695430236459156439656932108536936107092785759187120915559173321302027525229018106368725032056109022369913503577023942696069608771010384365856481001383579432844112231215767630328627015097422540087789462404508697086321213990868031273219614897901436844999442259387453021270642395531884848697650933478124254071912232445708062597679170291021925633789812405697682134528381868778865376836541179591638312152472136313757252384761293684336082840137773984575947459061\n",
      ">\n"
     ]
    }
   ],
   "source": [
    "vs=VulnServerClient()\n",
    "(e,N)=vs.get_public_key()"
   ]
  },
  {
   "cell_type": "markdown",
   "metadata": {},
   "source": [
    "You can sign messages with signNumber and signBytes methods.\n",
    "\n",
    "You can check signatures with checkSignatureNumber and checkSignatureBytes methods.\n",
    "\n",
    "Your goal is to get the valid signature for message 'flag'\n",
    "\n",
    "Remember that RSA is homomorphic and solve the task.\n",
    "\n",
    "Good luck!"
   ]
  },
  {
   "cell_type": "code",
   "execution_count": null,
   "metadata": {},
   "outputs": [],
   "source": []
  }
 ],
 "metadata": {
  "kernelspec": {
   "display_name": "Python 3",
   "language": "python",
   "name": "python3"
  },
  "language_info": {
   "codemirror_mode": {
    "name": "ipython",
    "version": 3
   },
   "file_extension": ".py",
   "mimetype": "text/x-python",
   "name": "python",
   "nbconvert_exporter": "python",
   "pygments_lexer": "ipython3",
   "version": "3.6.9"
  }
 },
 "nbformat": 4,
 "nbformat_minor": 2
}
